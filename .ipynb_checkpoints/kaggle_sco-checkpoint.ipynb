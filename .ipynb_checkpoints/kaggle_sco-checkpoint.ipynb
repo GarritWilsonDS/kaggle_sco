{
 "cells": [
  {
   "cell_type": "markdown",
   "id": "ba58b4b7",
   "metadata": {},
   "source": [
    "# Sales Conversion Optimization"
   ]
  },
  {
   "cell_type": "markdown",
   "id": "3b85cc86",
   "metadata": {},
   "source": [
    "In this notebook we are performing a Sales Conversion Optimization Analysis.\n",
    "The data is taken from 3 different facebook ad campaigns. \n",
    "The aim of the campaign is assumed to be profit, we therefore take conversion as indicator for success.\n",
    "The present analysis will look at relationships within the data, and then try to fit a machine learning model to predict conversion success of individual campaigns.\n",
    "\n",
    "\n",
    "Link to kaggle challenge:\n",
    "\n",
    "*https://www.kaggle.com/datasets/loveall/clicks-conversion-tracking?resource=download*\n",
    "\n",
    "----"
   ]
  },
  {
   "cell_type": "code",
   "execution_count": 1,
   "id": "db92a8f4",
   "metadata": {},
   "outputs": [],
   "source": [
    "import pandas as pd\n",
    "import numpy as np\n",
    "import seaborn as sns\n",
    "import matplotlib.pyplot as plt"
   ]
  },
  {
   "cell_type": "code",
   "execution_count": 2,
   "id": "e45f9d3d",
   "metadata": {},
   "outputs": [],
   "source": [
    "data = pd.read_csv('data/KAG_conversion_data.csv')"
   ]
  },
  {
   "cell_type": "code",
   "execution_count": 3,
   "id": "7d5d5b55",
   "metadata": {},
   "outputs": [
    {
     "data": {
      "text/plain": [
       "(1143, 11)"
      ]
     },
     "execution_count": 3,
     "metadata": {},
     "output_type": "execute_result"
    }
   ],
   "source": [
    "data.shape"
   ]
  },
  {
   "cell_type": "markdown",
   "id": "0a1b54d5",
   "metadata": {},
   "source": [
    "## 1. Data Cleaning"
   ]
  },
  {
   "cell_type": "code",
   "execution_count": 4,
   "id": "55e741d4",
   "metadata": {},
   "outputs": [],
   "source": [
    "## dropping unnecessary columns\n",
    "data.drop(\"fb_campaign_id\", axis=1, inplace=True)"
   ]
  },
  {
   "cell_type": "markdown",
   "id": "ff1742c2",
   "metadata": {},
   "source": [
    "### 2.1 Missing Values"
   ]
  },
  {
   "cell_type": "code",
   "execution_count": 5,
   "id": "e7d6cb66",
   "metadata": {},
   "outputs": [
    {
     "data": {
      "text/plain": [
       "ad_id                  0\n",
       "xyz_campaign_id        0\n",
       "age                    0\n",
       "gender                 0\n",
       "interest               0\n",
       "Impressions            0\n",
       "Clicks                 0\n",
       "Spent                  0\n",
       "Total_Conversion       0\n",
       "Approved_Conversion    0\n",
       "dtype: int64"
      ]
     },
     "execution_count": 5,
     "metadata": {},
     "output_type": "execute_result"
    }
   ],
   "source": [
    "data.isnull().sum()"
   ]
  },
  {
   "cell_type": "markdown",
   "id": "95a2e59f",
   "metadata": {},
   "source": [
    "### 2.2 Duplicates"
   ]
  },
  {
   "cell_type": "code",
   "execution_count": 6,
   "id": "85305281",
   "metadata": {},
   "outputs": [
    {
     "data": {
      "text/plain": [
       "0"
      ]
     },
     "execution_count": 6,
     "metadata": {},
     "output_type": "execute_result"
    }
   ],
   "source": [
    "data.duplicated().sum()"
   ]
  },
  {
   "cell_type": "markdown",
   "id": "1c9e5b0d",
   "metadata": {},
   "source": [
    "### 2.3 Outliers"
   ]
  },
  {
   "cell_type": "code",
   "execution_count": 7,
   "id": "eb8fc9ff",
   "metadata": {},
   "outputs": [
    {
     "data": {
      "text/html": [
       "<div>\n",
       "<style scoped>\n",
       "    .dataframe tbody tr th:only-of-type {\n",
       "        vertical-align: middle;\n",
       "    }\n",
       "\n",
       "    .dataframe tbody tr th {\n",
       "        vertical-align: top;\n",
       "    }\n",
       "\n",
       "    .dataframe thead th {\n",
       "        text-align: right;\n",
       "    }\n",
       "</style>\n",
       "<table border=\"1\" class=\"dataframe\">\n",
       "  <thead>\n",
       "    <tr style=\"text-align: right;\">\n",
       "      <th></th>\n",
       "      <th>ad_id</th>\n",
       "      <th>xyz_campaign_id</th>\n",
       "      <th>age</th>\n",
       "      <th>gender</th>\n",
       "      <th>interest</th>\n",
       "      <th>Impressions</th>\n",
       "      <th>Clicks</th>\n",
       "      <th>Spent</th>\n",
       "      <th>Total_Conversion</th>\n",
       "      <th>Approved_Conversion</th>\n",
       "    </tr>\n",
       "  </thead>\n",
       "  <tbody>\n",
       "    <tr>\n",
       "      <th>0</th>\n",
       "      <td>708746</td>\n",
       "      <td>916</td>\n",
       "      <td>30-34</td>\n",
       "      <td>M</td>\n",
       "      <td>15</td>\n",
       "      <td>7350</td>\n",
       "      <td>1</td>\n",
       "      <td>1.43</td>\n",
       "      <td>2</td>\n",
       "      <td>1</td>\n",
       "    </tr>\n",
       "    <tr>\n",
       "      <th>1</th>\n",
       "      <td>708749</td>\n",
       "      <td>916</td>\n",
       "      <td>30-34</td>\n",
       "      <td>M</td>\n",
       "      <td>16</td>\n",
       "      <td>17861</td>\n",
       "      <td>2</td>\n",
       "      <td>1.82</td>\n",
       "      <td>2</td>\n",
       "      <td>0</td>\n",
       "    </tr>\n",
       "  </tbody>\n",
       "</table>\n",
       "</div>"
      ],
      "text/plain": [
       "    ad_id  xyz_campaign_id    age gender  interest  Impressions  Clicks  \\\n",
       "0  708746              916  30-34      M        15         7350       1   \n",
       "1  708749              916  30-34      M        16        17861       2   \n",
       "\n",
       "   Spent  Total_Conversion  Approved_Conversion  \n",
       "0   1.43                 2                    1  \n",
       "1   1.82                 2                    0  "
      ]
     },
     "execution_count": 7,
     "metadata": {},
     "output_type": "execute_result"
    }
   ],
   "source": [
    "data.head(2)"
   ]
  },
  {
   "cell_type": "code",
   "execution_count": 8,
   "id": "b308524b",
   "metadata": {},
   "outputs": [
    {
     "data": {
      "image/png": "[encoded data removed]",
      "text/plain": [
       "<Figure size 1080x288 with 1 Axes>"
      ]
     },
     "metadata": {
      "needs_background": "light"
     },
     "output_type": "display_data"
    }
   ],
   "source": [
    "## checking for outliers in 'interst'\n",
    "plt.figure(figsize=(15,4))\n",
    "data.interest.value_counts().plot(kind=\"bar\")\n",
    "plt.title(\"Amount of Ads per Interest Group\", size=15);"
   ]
  },
  {
   "cell_type": "code",
   "execution_count": 9,
   "id": "4bf7c207",
   "metadata": {},
   "outputs": [
    {
     "data": {
      "image/png": "[encoded data removed]",
      "text/plain": [
       "<Figure size 1080x288 with 1 Axes>"
      ]
     },
     "metadata": {
      "needs_background": "light"
     },
     "output_type": "display_data"
    }
   ],
   "source": [
    "## checking for outliers in Impressions\n",
    "plt.figure(figsize=(15,4))\n",
    "sns.boxplot(x=data.Impressions)\n",
    "plt.title(\"Distribution of Impressions\", size=15);"
   ]
  },
  {
   "cell_type": "code",
   "execution_count": 10,
   "id": "545edb0b",
   "metadata": {},
   "outputs": [
    {
     "data": {
      "text/html": [
       "<div>\n",
       "<style scoped>\n",
       "    .dataframe tbody tr th:only-of-type {\n",
       "        vertical-align: middle;\n",
       "    }\n",
       "\n",
       "    .dataframe tbody tr th {\n",
       "        vertical-align: top;\n",
       "    }\n",
       "\n",
       "    .dataframe thead th {\n",
       "        text-align: right;\n",
       "    }\n",
       "</style>\n",
       "<table border=\"1\" class=\"dataframe\">\n",
       "  <thead>\n",
       "    <tr style=\"text-align: right;\">\n",
       "      <th></th>\n",
       "      <th>ad_id</th>\n",
       "      <th>xyz_campaign_id</th>\n",
       "      <th>age</th>\n",
       "      <th>gender</th>\n",
       "      <th>interest</th>\n",
       "      <th>Impressions</th>\n",
       "      <th>Clicks</th>\n",
       "      <th>Spent</th>\n",
       "      <th>Total_Conversion</th>\n",
       "      <th>Approved_Conversion</th>\n",
       "    </tr>\n",
       "  </thead>\n",
       "  <tbody>\n",
       "    <tr>\n",
       "      <th>525</th>\n",
       "      <td>1121100</td>\n",
       "      <td>1178</td>\n",
       "      <td>30-34</td>\n",
       "      <td>M</td>\n",
       "      <td>15</td>\n",
       "      <td>3052003</td>\n",
       "      <td>340</td>\n",
       "      <td>639.949998</td>\n",
       "      <td>60</td>\n",
       "      <td>17</td>\n",
       "    </tr>\n",
       "    <tr>\n",
       "      <th>765</th>\n",
       "      <td>1121601</td>\n",
       "      <td>1178</td>\n",
       "      <td>45-49</td>\n",
       "      <td>M</td>\n",
       "      <td>16</td>\n",
       "      <td>2286228</td>\n",
       "      <td>353</td>\n",
       "      <td>603.380002</td>\n",
       "      <td>16</td>\n",
       "      <td>7</td>\n",
       "    </tr>\n",
       "    <tr>\n",
       "      <th>860</th>\n",
       "      <td>1121814</td>\n",
       "      <td>1178</td>\n",
       "      <td>30-34</td>\n",
       "      <td>F</td>\n",
       "      <td>27</td>\n",
       "      <td>2223278</td>\n",
       "      <td>421</td>\n",
       "      <td>612.300003</td>\n",
       "      <td>38</td>\n",
       "      <td>13</td>\n",
       "    </tr>\n",
       "    <tr>\n",
       "      <th>528</th>\n",
       "      <td>1121104</td>\n",
       "      <td>1178</td>\n",
       "      <td>30-34</td>\n",
       "      <td>M</td>\n",
       "      <td>16</td>\n",
       "      <td>2080666</td>\n",
       "      <td>202</td>\n",
       "      <td>360.150001</td>\n",
       "      <td>40</td>\n",
       "      <td>21</td>\n",
       "    </tr>\n",
       "    <tr>\n",
       "      <th>867</th>\n",
       "      <td>1121824</td>\n",
       "      <td>1178</td>\n",
       "      <td>30-34</td>\n",
       "      <td>F</td>\n",
       "      <td>29</td>\n",
       "      <td>1705246</td>\n",
       "      <td>295</td>\n",
       "      <td>429.479998</td>\n",
       "      <td>23</td>\n",
       "      <td>10</td>\n",
       "    </tr>\n",
       "  </tbody>\n",
       "</table>\n",
       "</div>"
      ],
      "text/plain": [
       "       ad_id  xyz_campaign_id    age gender  interest  Impressions  Clicks  \\\n",
       "525  1121100             1178  30-34      M        15      3052003     340   \n",
       "765  1121601             1178  45-49      M        16      2286228     353   \n",
       "860  1121814             1178  30-34      F        27      2223278     421   \n",
       "528  1121104             1178  30-34      M        16      2080666     202   \n",
       "867  1121824             1178  30-34      F        29      1705246     295   \n",
       "\n",
       "          Spent  Total_Conversion  Approved_Conversion  \n",
       "525  639.949998                60                   17  \n",
       "765  603.380002                16                    7  \n",
       "860  612.300003                38                   13  \n",
       "528  360.150001                40                   21  \n",
       "867  429.479998                23                   10  "
      ]
     },
     "execution_count": 10,
     "metadata": {},
     "output_type": "execute_result"
    }
   ],
   "source": [
    "## Inspecting Outliers\n",
    "data.sort_values(by=\"Impressions\", ascending=False)[:5]"
   ]
  },
  {
   "cell_type": "markdown",
   "id": "d25bc0ac",
   "metadata": {},
   "source": [
    "(Outliers are decided to be left in the dataset, as there is no evidence for them being wrong data entries)"
   ]
  },
  {
   "cell_type": "code",
   "execution_count": 11,
   "id": "e26a92ef",
   "metadata": {},
   "outputs": [
    {
     "data": {
      "image/png": "[encoded data removed]",
      "text/plain": [
       "<Figure size 1080x288 with 1 Axes>"
      ]
     },
     "metadata": {
      "needs_background": "light"
     },
     "output_type": "display_data"
    }
   ],
   "source": [
    "## checking for outliers in 'Spent'\n",
    "plt.figure(figsize=(15,4))\n",
    "sns.histplot(x=data.Spent)\n",
    "plt.title(\"Distribution of Ad Spent\", size=15);"
   ]
  },
  {
   "cell_type": "code",
   "execution_count": 12,
   "id": "a3a2ee24",
   "metadata": {},
   "outputs": [
    {
     "data": {
      "text/html": [
       "<div>\n",
       "<style scoped>\n",
       "    .dataframe tbody tr th:only-of-type {\n",
       "        vertical-align: middle;\n",
       "    }\n",
       "\n",
       "    .dataframe tbody tr th {\n",
       "        vertical-align: top;\n",
       "    }\n",
       "\n",
       "    .dataframe thead th {\n",
       "        text-align: right;\n",
       "    }\n",
       "</style>\n",
       "<table border=\"1\" class=\"dataframe\">\n",
       "  <thead>\n",
       "    <tr style=\"text-align: right;\">\n",
       "      <th></th>\n",
       "      <th>ad_id</th>\n",
       "      <th>xyz_campaign_id</th>\n",
       "      <th>age</th>\n",
       "      <th>gender</th>\n",
       "      <th>interest</th>\n",
       "      <th>Impressions</th>\n",
       "      <th>Clicks</th>\n",
       "      <th>Spent</th>\n",
       "      <th>Total_Conversion</th>\n",
       "      <th>Approved_Conversion</th>\n",
       "    </tr>\n",
       "  </thead>\n",
       "  <tbody>\n",
       "    <tr>\n",
       "      <th>525</th>\n",
       "      <td>1121100</td>\n",
       "      <td>1178</td>\n",
       "      <td>30-34</td>\n",
       "      <td>M</td>\n",
       "      <td>15</td>\n",
       "      <td>3052003</td>\n",
       "      <td>340</td>\n",
       "      <td>639.949998</td>\n",
       "      <td>60</td>\n",
       "      <td>17</td>\n",
       "    </tr>\n",
       "    <tr>\n",
       "      <th>860</th>\n",
       "      <td>1121814</td>\n",
       "      <td>1178</td>\n",
       "      <td>30-34</td>\n",
       "      <td>F</td>\n",
       "      <td>27</td>\n",
       "      <td>2223278</td>\n",
       "      <td>421</td>\n",
       "      <td>612.300003</td>\n",
       "      <td>38</td>\n",
       "      <td>13</td>\n",
       "    </tr>\n",
       "    <tr>\n",
       "      <th>765</th>\n",
       "      <td>1121601</td>\n",
       "      <td>1178</td>\n",
       "      <td>45-49</td>\n",
       "      <td>M</td>\n",
       "      <td>16</td>\n",
       "      <td>2286228</td>\n",
       "      <td>353</td>\n",
       "      <td>603.380002</td>\n",
       "      <td>16</td>\n",
       "      <td>7</td>\n",
       "    </tr>\n",
       "    <tr>\n",
       "      <th>1026</th>\n",
       "      <td>1122265</td>\n",
       "      <td>1178</td>\n",
       "      <td>45-49</td>\n",
       "      <td>F</td>\n",
       "      <td>27</td>\n",
       "      <td>1428421</td>\n",
       "      <td>367</td>\n",
       "      <td>541.700002</td>\n",
       "      <td>10</td>\n",
       "      <td>0</td>\n",
       "    </tr>\n",
       "    <tr>\n",
       "      <th>995</th>\n",
       "      <td>1122193</td>\n",
       "      <td>1178</td>\n",
       "      <td>45-49</td>\n",
       "      <td>F</td>\n",
       "      <td>10</td>\n",
       "      <td>1358324</td>\n",
       "      <td>346</td>\n",
       "      <td>465.079998</td>\n",
       "      <td>8</td>\n",
       "      <td>2</td>\n",
       "    </tr>\n",
       "  </tbody>\n",
       "</table>\n",
       "</div>"
      ],
      "text/plain": [
       "        ad_id  xyz_campaign_id    age gender  interest  Impressions  Clicks  \\\n",
       "525   1121100             1178  30-34      M        15      3052003     340   \n",
       "860   1121814             1178  30-34      F        27      2223278     421   \n",
       "765   1121601             1178  45-49      M        16      2286228     353   \n",
       "1026  1122265             1178  45-49      F        27      1428421     367   \n",
       "995   1122193             1178  45-49      F        10      1358324     346   \n",
       "\n",
       "           Spent  Total_Conversion  Approved_Conversion  \n",
       "525   639.949998                60                   17  \n",
       "860   612.300003                38                   13  \n",
       "765   603.380002                16                    7  \n",
       "1026  541.700002                10                    0  \n",
       "995   465.079998                 8                    2  "
      ]
     },
     "execution_count": 12,
     "metadata": {},
     "output_type": "execute_result"
    }
   ],
   "source": [
    "## Inspecting Outliers\n",
    "data.sort_values(by=\"Spent\", ascending=False)[:5]"
   ]
  },
  {
   "cell_type": "markdown",
   "id": "d3edecfa",
   "metadata": {},
   "source": [
    "(Outliers are decided to be left in the dataset, as there is no evidence for them being wrong data entries)"
   ]
  },
  {
   "cell_type": "code",
   "execution_count": 13,
   "id": "1e3f73bb",
   "metadata": {},
   "outputs": [
    {
     "data": {
      "image/png": "[encoded data removed]",
      "text/plain": [
       "<Figure size 1080x288 with 1 Axes>"
      ]
     },
     "metadata": {
      "needs_background": "light"
     },
     "output_type": "display_data"
    }
   ],
   "source": [
    "## checking for outliers in 'Clicks'\n",
    "plt.figure(figsize=(15,4))\n",
    "sns.histplot(x=data.Clicks)\n",
    "plt.title(\"Distribution of Clicks\", size=15);"
   ]
  },
  {
   "cell_type": "code",
   "execution_count": 14,
   "id": "8d975809",
   "metadata": {},
   "outputs": [
    {
     "data": {
      "text/html": [
       "<div>\n",
       "<style scoped>\n",
       "    .dataframe tbody tr th:only-of-type {\n",
       "        vertical-align: middle;\n",
       "    }\n",
       "\n",
       "    .dataframe tbody tr th {\n",
       "        vertical-align: top;\n",
       "    }\n",
       "\n",
       "    .dataframe thead th {\n",
       "        text-align: right;\n",
       "    }\n",
       "</style>\n",
       "<table border=\"1\" class=\"dataframe\">\n",
       "  <thead>\n",
       "    <tr style=\"text-align: right;\">\n",
       "      <th></th>\n",
       "      <th>ad_id</th>\n",
       "      <th>xyz_campaign_id</th>\n",
       "      <th>age</th>\n",
       "      <th>gender</th>\n",
       "      <th>interest</th>\n",
       "      <th>Impressions</th>\n",
       "      <th>Clicks</th>\n",
       "      <th>Spent</th>\n",
       "      <th>Total_Conversion</th>\n",
       "      <th>Approved_Conversion</th>\n",
       "    </tr>\n",
       "  </thead>\n",
       "  <tbody>\n",
       "    <tr>\n",
       "      <th>860</th>\n",
       "      <td>1121814</td>\n",
       "      <td>1178</td>\n",
       "      <td>30-34</td>\n",
       "      <td>F</td>\n",
       "      <td>27</td>\n",
       "      <td>2223278</td>\n",
       "      <td>421</td>\n",
       "      <td>612.300003</td>\n",
       "      <td>38</td>\n",
       "      <td>13</td>\n",
       "    </tr>\n",
       "    <tr>\n",
       "      <th>1026</th>\n",
       "      <td>1122265</td>\n",
       "      <td>1178</td>\n",
       "      <td>45-49</td>\n",
       "      <td>F</td>\n",
       "      <td>27</td>\n",
       "      <td>1428421</td>\n",
       "      <td>367</td>\n",
       "      <td>541.700002</td>\n",
       "      <td>10</td>\n",
       "      <td>0</td>\n",
       "    </tr>\n",
       "    <tr>\n",
       "      <th>765</th>\n",
       "      <td>1121601</td>\n",
       "      <td>1178</td>\n",
       "      <td>45-49</td>\n",
       "      <td>M</td>\n",
       "      <td>16</td>\n",
       "      <td>2286228</td>\n",
       "      <td>353</td>\n",
       "      <td>603.380002</td>\n",
       "      <td>16</td>\n",
       "      <td>7</td>\n",
       "    </tr>\n",
       "    <tr>\n",
       "      <th>995</th>\n",
       "      <td>1122193</td>\n",
       "      <td>1178</td>\n",
       "      <td>45-49</td>\n",
       "      <td>F</td>\n",
       "      <td>10</td>\n",
       "      <td>1358324</td>\n",
       "      <td>346</td>\n",
       "      <td>465.079998</td>\n",
       "      <td>8</td>\n",
       "      <td>2</td>\n",
       "    </tr>\n",
       "    <tr>\n",
       "      <th>525</th>\n",
       "      <td>1121100</td>\n",
       "      <td>1178</td>\n",
       "      <td>30-34</td>\n",
       "      <td>M</td>\n",
       "      <td>15</td>\n",
       "      <td>3052003</td>\n",
       "      <td>340</td>\n",
       "      <td>639.949998</td>\n",
       "      <td>60</td>\n",
       "      <td>17</td>\n",
       "    </tr>\n",
       "  </tbody>\n",
       "</table>\n",
       "</div>"
      ],
      "text/plain": [
       "        ad_id  xyz_campaign_id    age gender  interest  Impressions  Clicks  \\\n",
       "860   1121814             1178  30-34      F        27      2223278     421   \n",
       "1026  1122265             1178  45-49      F        27      1428421     367   \n",
       "765   1121601             1178  45-49      M        16      2286228     353   \n",
       "995   1122193             1178  45-49      F        10      1358324     346   \n",
       "525   1121100             1178  30-34      M        15      3052003     340   \n",
       "\n",
       "           Spent  Total_Conversion  Approved_Conversion  \n",
       "860   612.300003                38                   13  \n",
       "1026  541.700002                10                    0  \n",
       "765   603.380002                16                    7  \n",
       "995   465.079998                 8                    2  \n",
       "525   639.949998                60                   17  "
      ]
     },
     "execution_count": 14,
     "metadata": {},
     "output_type": "execute_result"
    }
   ],
   "source": [
    "## Inspecting Outliers\n",
    "data.sort_values(by=\"Clicks\", ascending=False)[:5]"
   ]
  },
  {
   "cell_type": "code",
   "execution_count": 15,
   "id": "d963f7f1",
   "metadata": {},
   "outputs": [
    {
     "data": {
      "image/png": "[encoded data removed]",
      "text/plain": [
       "<Figure size 1080x288 with 1 Axes>"
      ]
     },
     "metadata": {
      "needs_background": "light"
     },
     "output_type": "display_data"
    }
   ],
   "source": [
    "## checking outliers for conversions\n",
    "plt.figure(figsize=(15,4))\n",
    "sns.histplot(x=data.Approved_Conversion)\n",
    "plt.title(\"Distribution of Approved Conversions\", size=15);"
   ]
  },
  {
   "cell_type": "markdown",
   "id": "5ff9c260",
   "metadata": {},
   "source": [
    "**Notes:**\n",
    "\n",
    "The distributions for all continuous variables are highly skewed, with some extreme values compared to measures of centrality. The data appears to be real however, and represents actual, real phenomena (such as increases in ad spend correlating with increases in Impressions and Conversions; correlations are examined in the next section). \n",
    "\n",
    "These observations are therefore left in the dataset."
   ]
  },
  {
   "cell_type": "code",
   "execution_count": 16,
   "id": "217f7e4f",
   "metadata": {},
   "outputs": [],
   "source": [
    "## changing values for campaign id\n",
    "data[\"xyz_campaign_id\"].replace({916:\"campaign_a\" ,936:\"campaign_b\" ,1178:\"campaign_c\"}, inplace=True)"
   ]
  },
  {
   "cell_type": "markdown",
   "id": "74120e5c",
   "metadata": {},
   "source": [
    "## 2. Exploraroty Analysis"
   ]
  },
  {
   "cell_type": "markdown",
   "id": "deee4aef",
   "metadata": {},
   "source": [
    "This section is analysing some interesting distributions and trends, such as ..\n",
    "\n",
    "1. How many ads are there per ad - campaign?\n",
    "2. How well do the campaigns perform compared to the others?\n",
    "3. What is the average Ad Spent?\n",
    "4. What is the correlation between Ad Spent, Impressions and Conversions?\n",
    "5. Is there a linear relationship between Ad Spent and Impressions?"
   ]
  },
  {
   "cell_type": "code",
   "execution_count": 17,
   "id": "253d49ba",
   "metadata": {},
   "outputs": [
    {
     "data": {
      "image/png": "[encoded data removed]",
      "text/plain": [
       "<Figure size 720x432 with 1 Axes>"
      ]
     },
     "metadata": {
      "needs_background": "light"
     },
     "output_type": "display_data"
    }
   ],
   "source": [
    "## Assessing number of ads per campaign\n",
    "plt.figure(figsize=(10,6))\n",
    "data.groupby(\"xyz_campaign_id\")[\"ad_id\"].nunique().plot(kind=\"bar\", color=[\"steelblue\", \n",
    "                                                                           \"indianred\", \n",
    "                                                                           \"seagreen\"])\n",
    "plt.xticks(rotation=45)\n",
    "plt.title(\"Number of Ads per Campaign\", size=15)\n",
    "plt.xlabel(\"Campaign\", size=12)\n",
    "plt.ylabel(\"Nr. of Ads\", size=12);"
   ]
  },
  {
   "cell_type": "markdown",
   "id": "1d886ee2",
   "metadata": {},
   "source": [
    "**Might be wise to oversample campaign_a**"
   ]
  },
  {
   "cell_type": "code",
   "execution_count": 18,
   "id": "108285a1",
   "metadata": {},
   "outputs": [
    {
     "data": {
      "image/png": "[encoded data removed]",
      "text/plain": [
       "<Figure size 720x432 with 1 Axes>"
      ]
     },
     "metadata": {
      "needs_background": "light"
     },
     "output_type": "display_data"
    }
   ],
   "source": [
    "## assessing the relative performance of the campaigns, based on conversion success\n",
    "\n",
    "plt.figure(figsize=(10,6))\n",
    "data.groupby(\"xyz_campaign_id\")[\"Approved_Conversion\"].mean().plot(kind=\"bar\", color=[\"steelblue\", \n",
    "                                                                                      \"indianred\", \n",
    "                                                                                      \"seagreen\"])\n",
    "plt.xticks(rotation=45)\n",
    "plt.title(\"Mean Conversions per Ad Campaign\", size=15)\n",
    "plt.xlabel(\"Campaign\", size=12)\n",
    "plt.ylabel(\"Mean nr. of Conversions\", size=12);"
   ]
  },
  {
   "cell_type": "code",
   "execution_count": 19,
   "id": "e845f2f9",
   "metadata": {},
   "outputs": [
    {
     "name": "stdout",
     "output_type": "stream",
     "text": [
      "\n",
      "Average amount (median, due to skew) spent per ad: \u001b[1m12.37\u001b[0m\n",
      "\n"
     ]
    }
   ],
   "source": [
    "avg = round(data.Spent.median(),2)\n",
    "\n",
    "print()\n",
    "print(f'Average amount (median, due to skew) spent per ad: \\033[1m{avg}\\033[0m')\n",
    "print()"
   ]
  },
  {
   "cell_type": "code",
   "execution_count": 20,
   "id": "ce754060",
   "metadata": {},
   "outputs": [
    {
     "data": {
      "text/plain": [
       "<AxesSubplot:>"
      ]
     },
     "execution_count": 20,
     "metadata": {},
     "output_type": "execute_result"
    },
    {
     "data": {
      "image/png": "[encoded data removed]",
      "text/plain": [
       "<Figure size 720x504 with 2 Axes>"
      ]
     },
     "metadata": {
      "needs_background": "light"
     },
     "output_type": "display_data"
    }
   ],
   "source": [
    "## assessing the relationship between Ad Spent, nr. of Impressions and Conversions\n",
    "tmp = data[[\"Spent\", \"Impressions\", \"Total_Conversion\", \"Approved_Conversion\"]].corr()\n",
    "\n",
    "plt.figure(figsize=(10,7))\n",
    "sns.heatmap(tmp, annot=True)"
   ]
  },
  {
   "cell_type": "markdown",
   "id": "41eed15e",
   "metadata": {},
   "source": [
    "**Notes:**\n",
    "\n",
    "There is a very clear relationship between Ad Spent and Impressions, as well as with Conversions."
   ]
  },
  {
   "cell_type": "code",
   "execution_count": 21,
   "id": "e38133b5",
   "metadata": {},
   "outputs": [
    {
     "data": {
      "image/png": "[encoded data removed]",
      "text/plain": [
       "<Figure size 720x504 with 1 Axes>"
      ]
     },
     "metadata": {
      "needs_background": "light"
     },
     "output_type": "display_data"
    }
   ],
   "source": [
    "## Is there a relationship between Ad Spend and Conversion?\n",
    "plt.figure(figsize=(10,7))\n",
    "\n",
    "sns.regplot(x = \"Impressions\",\n",
    "            y= \"Spent\",\n",
    "           data= data)\n",
    "\n",
    "plt.title(\"Linear Regression Model on Impressions x Ad Spent\", size= 15)\n",
    "plt.xlabel(\"Impressions\", size=12)\n",
    "plt.ylabel(\"Spent\", size=12);"
   ]
  },
  {
   "cell_type": "markdown",
   "id": "00c83b9e",
   "metadata": {},
   "source": [
    "## 3. Feature Engineering"
   ]
  },
  {
   "cell_type": "markdown",
   "id": "b95a840f",
   "metadata": {},
   "source": [
    "Calculating *Click-Through-Rate* and *Cost per Click* as additional features for our model.\n",
    "\n",
    "To prevent data leakage (i.e. having the target values be represented in training features),\n",
    "we will abstain from calculating *Conversion Rate* and *Cost per Conversion*."
   ]
  },
  {
   "cell_type": "code",
   "execution_count": 22,
   "id": "dbcb5165",
   "metadata": {},
   "outputs": [],
   "source": [
    "## calculating click-through-rate\n",
    "data[\"CTR (%)\"] = (data[\"Clicks\"] / data[\"Impressions\"]) * 100"
   ]
  },
  {
   "cell_type": "code",
   "execution_count": 23,
   "id": "aad8432d",
   "metadata": {},
   "outputs": [],
   "source": [
    "## calculating Cost per Click\n",
    "mask = (data[\"Clicks\"] != 0)\n",
    "data_valid = data[mask]\n",
    "\n",
    "data[\"CpC\"] = 0\n",
    "\n",
    "data.loc[mask, \"CpC\"] = data[\"Clicks\"] / data[\"Spent\"]"
   ]
  },
  {
   "cell_type": "code",
   "execution_count": 24,
   "id": "98a12405",
   "metadata": {},
   "outputs": [
    {
     "data": {
      "text/html": [
       "<div>\n",
       "<style scoped>\n",
       "    .dataframe tbody tr th:only-of-type {\n",
       "        vertical-align: middle;\n",
       "    }\n",
       "\n",
       "    .dataframe tbody tr th {\n",
       "        vertical-align: top;\n",
       "    }\n",
       "\n",
       "    .dataframe thead th {\n",
       "        text-align: right;\n",
       "    }\n",
       "</style>\n",
       "<table border=\"1\" class=\"dataframe\">\n",
       "  <thead>\n",
       "    <tr style=\"text-align: right;\">\n",
       "      <th></th>\n",
       "      <th>ad_id</th>\n",
       "      <th>xyz_campaign_id</th>\n",
       "      <th>age</th>\n",
       "      <th>gender</th>\n",
       "      <th>interest</th>\n",
       "      <th>Impressions</th>\n",
       "      <th>Clicks</th>\n",
       "      <th>Spent</th>\n",
       "      <th>Total_Conversion</th>\n",
       "      <th>Approved_Conversion</th>\n",
       "      <th>CTR (%)</th>\n",
       "      <th>CpC</th>\n",
       "    </tr>\n",
       "  </thead>\n",
       "  <tbody>\n",
       "    <tr>\n",
       "      <th>0</th>\n",
       "      <td>708746</td>\n",
       "      <td>campaign_a</td>\n",
       "      <td>30-34</td>\n",
       "      <td>M</td>\n",
       "      <td>15</td>\n",
       "      <td>7350</td>\n",
       "      <td>1</td>\n",
       "      <td>1.43</td>\n",
       "      <td>2</td>\n",
       "      <td>1</td>\n",
       "      <td>0.013605</td>\n",
       "      <td>0.699301</td>\n",
       "    </tr>\n",
       "    <tr>\n",
       "      <th>1</th>\n",
       "      <td>708749</td>\n",
       "      <td>campaign_a</td>\n",
       "      <td>30-34</td>\n",
       "      <td>M</td>\n",
       "      <td>16</td>\n",
       "      <td>17861</td>\n",
       "      <td>2</td>\n",
       "      <td>1.82</td>\n",
       "      <td>2</td>\n",
       "      <td>0</td>\n",
       "      <td>0.011198</td>\n",
       "      <td>1.098901</td>\n",
       "    </tr>\n",
       "    <tr>\n",
       "      <th>2</th>\n",
       "      <td>708771</td>\n",
       "      <td>campaign_a</td>\n",
       "      <td>30-34</td>\n",
       "      <td>M</td>\n",
       "      <td>20</td>\n",
       "      <td>693</td>\n",
       "      <td>0</td>\n",
       "      <td>0.00</td>\n",
       "      <td>1</td>\n",
       "      <td>0</td>\n",
       "      <td>0.000000</td>\n",
       "      <td>0.000000</td>\n",
       "    </tr>\n",
       "  </tbody>\n",
       "</table>\n",
       "</div>"
      ],
      "text/plain": [
       "    ad_id xyz_campaign_id    age gender  interest  Impressions  Clicks  Spent  \\\n",
       "0  708746      campaign_a  30-34      M        15         7350       1   1.43   \n",
       "1  708749      campaign_a  30-34      M        16        17861       2   1.82   \n",
       "2  708771      campaign_a  30-34      M        20          693       0   0.00   \n",
       "\n",
       "   Total_Conversion  Approved_Conversion   CTR (%)       CpC  \n",
       "0                 2                    1  0.013605  0.699301  \n",
       "1                 2                    0  0.011198  1.098901  \n",
       "2                 1                    0  0.000000  0.000000  "
      ]
     },
     "execution_count": 24,
     "metadata": {},
     "output_type": "execute_result"
    }
   ],
   "source": [
    "data.head(3)"
   ]
  },
  {
   "cell_type": "markdown",
   "id": "7ec0105b",
   "metadata": {},
   "source": [
    "## 4. Data Preprocessing"
   ]
  },
  {
   "cell_type": "markdown",
   "id": "9d9b476e",
   "metadata": {},
   "source": [
    "To prevent data leakage, the datasets for training and evaluation (X_train, X_test, respectively) are scaled separately."
   ]
  },
  {
   "cell_type": "code",
   "execution_count": 25,
   "id": "ef52136d",
   "metadata": {},
   "outputs": [],
   "source": [
    "from sklearn.model_selection import train_test_split\n",
    "from sklearn.preprocessing import OneHotEncoder, MinMaxScaler"
   ]
  },
  {
   "cell_type": "code",
   "execution_count": 26,
   "id": "fb0d5f7c",
   "metadata": {},
   "outputs": [],
   "source": [
    "## making a separate but identical dataframe to preprocess, in order to preserve the original data\n",
    "processed_data = data.copy()"
   ]
  },
  {
   "cell_type": "code",
   "execution_count": 27,
   "id": "fbc02d49",
   "metadata": {},
   "outputs": [],
   "source": [
    "## Splitting train and test data to avoid data leakage\n",
    "X = processed_data.drop([\"Total_Conversion\", \"Approved_Conversion\"], axis= 1)\n",
    "y = processed_data[\"Approved_Conversion\"]\n",
    "\n",
    "X_train, X_test, y_train, y_test = train_test_split(X, y, test_size= 0.33)"
   ]
  },
  {
   "cell_type": "code",
   "execution_count": 28,
   "id": "26446043",
   "metadata": {},
   "outputs": [],
   "source": [
    "## creating function to one hot encode all categorical features in the dataset\n",
    "def ohe(dataframe):\n",
    "\n",
    "    encoder = OneHotEncoder(sparse= False)\n",
    "\n",
    "    for col in [\"xyz_campaign_id\", \"age\", \"gender\"]: #\"interest\"\n",
    "\n",
    "        encoder.fit(dataframe[[col]])\n",
    "\n",
    "        col_encoded = encoder.transform(dataframe[[col]])\n",
    "\n",
    "        dataframe[encoder.categories_[0]] = col_encoded\n",
    "\n",
    "        dataframe.drop(columns=[col], inplace=True)\n",
    "        \n",
    "    return dataframe\n",
    "\n",
    "## creating function to scale all continuous features of the dataset\n",
    "def minmaxscale(dataframe):\n",
    "    \n",
    "    scaler = MinMaxScaler()\n",
    "\n",
    "    for col in [\"Impressions\",\"interest\", \"Spent\", \"Clicks\", \"CTR (%)\", \"CpC\"]:\n",
    "\n",
    "        scaler.fit(dataframe[[col]])\n",
    "\n",
    "        dataframe[col] = scaler.transform(dataframe[[col]])\n",
    "        \n",
    "    return dataframe"
   ]
  },
  {
   "cell_type": "code",
   "execution_count": 29,
   "id": "af63d053",
   "metadata": {},
   "outputs": [],
   "source": [
    "## feature scaling X_train\n",
    "X_train = ohe(X_train)\n",
    "X_train = minmaxscale(X_train)"
   ]
  },
  {
   "cell_type": "code",
   "execution_count": 30,
   "id": "9b00e260",
   "metadata": {},
   "outputs": [
    {
     "data": {
      "text/html": [
       "<div>\n",
       "<style scoped>\n",
       "    .dataframe tbody tr th:only-of-type {\n",
       "        vertical-align: middle;\n",
       "    }\n",
       "\n",
       "    .dataframe tbody tr th {\n",
       "        vertical-align: top;\n",
       "    }\n",
       "\n",
       "    .dataframe thead th {\n",
       "        text-align: right;\n",
       "    }\n",
       "</style>\n",
       "<table border=\"1\" class=\"dataframe\">\n",
       "  <thead>\n",
       "    <tr style=\"text-align: right;\">\n",
       "      <th></th>\n",
       "      <th>ad_id</th>\n",
       "      <th>interest</th>\n",
       "      <th>Impressions</th>\n",
       "      <th>Clicks</th>\n",
       "      <th>Spent</th>\n",
       "      <th>CTR (%)</th>\n",
       "      <th>CpC</th>\n",
       "      <th>campaign_a</th>\n",
       "      <th>campaign_b</th>\n",
       "      <th>campaign_c</th>\n",
       "      <th>30-34</th>\n",
       "      <th>35-39</th>\n",
       "      <th>40-44</th>\n",
       "      <th>45-49</th>\n",
       "      <th>F</th>\n",
       "      <th>M</th>\n",
       "    </tr>\n",
       "  </thead>\n",
       "  <tbody>\n",
       "    <tr>\n",
       "      <th>846</th>\n",
       "      <td>1121776</td>\n",
       "      <td>0.169643</td>\n",
       "      <td>0.045326</td>\n",
       "      <td>0.040872</td>\n",
       "      <td>0.040721</td>\n",
       "      <td>0.136536</td>\n",
       "      <td>0.109890</td>\n",
       "      <td>0.0</td>\n",
       "      <td>0.0</td>\n",
       "      <td>1.0</td>\n",
       "      <td>1.0</td>\n",
       "      <td>0.0</td>\n",
       "      <td>0.0</td>\n",
       "      <td>0.0</td>\n",
       "      <td>1.0</td>\n",
       "      <td>0.0</td>\n",
       "    </tr>\n",
       "    <tr>\n",
       "      <th>1136</th>\n",
       "      <td>1314408</td>\n",
       "      <td>0.937500</td>\n",
       "      <td>0.383914</td>\n",
       "      <td>0.435967</td>\n",
       "      <td>0.385478</td>\n",
       "      <td>0.172073</td>\n",
       "      <td>0.123823</td>\n",
       "      <td>0.0</td>\n",
       "      <td>0.0</td>\n",
       "      <td>1.0</td>\n",
       "      <td>0.0</td>\n",
       "      <td>0.0</td>\n",
       "      <td>0.0</td>\n",
       "      <td>1.0</td>\n",
       "      <td>1.0</td>\n",
       "      <td>0.0</td>\n",
       "    </tr>\n",
       "    <tr>\n",
       "      <th>633</th>\n",
       "      <td>1121311</td>\n",
       "      <td>0.142857</td>\n",
       "      <td>0.061528</td>\n",
       "      <td>0.051771</td>\n",
       "      <td>0.050515</td>\n",
       "      <td>0.127433</td>\n",
       "      <td>0.112205</td>\n",
       "      <td>0.0</td>\n",
       "      <td>0.0</td>\n",
       "      <td>1.0</td>\n",
       "      <td>0.0</td>\n",
       "      <td>1.0</td>\n",
       "      <td>0.0</td>\n",
       "      <td>0.0</td>\n",
       "      <td>0.0</td>\n",
       "      <td>1.0</td>\n",
       "    </tr>\n",
       "  </tbody>\n",
       "</table>\n",
       "</div>"
      ],
      "text/plain": [
       "        ad_id  interest  Impressions    Clicks     Spent   CTR (%)       CpC  \\\n",
       "846   1121776  0.169643     0.045326  0.040872  0.040721  0.136536  0.109890   \n",
       "1136  1314408  0.937500     0.383914  0.435967  0.385478  0.172073  0.123823   \n",
       "633   1121311  0.142857     0.061528  0.051771  0.050515  0.127433  0.112205   \n",
       "\n",
       "      campaign_a  campaign_b  campaign_c  30-34  35-39  40-44  45-49    F    M  \n",
       "846          0.0         0.0         1.0    1.0    0.0    0.0    0.0  1.0  0.0  \n",
       "1136         0.0         0.0         1.0    0.0    0.0    0.0    1.0  1.0  0.0  \n",
       "633          0.0         0.0         1.0    0.0    1.0    0.0    0.0  0.0  1.0  "
      ]
     },
     "execution_count": 30,
     "metadata": {},
     "output_type": "execute_result"
    }
   ],
   "source": [
    "X_train.head(3)"
   ]
  },
  {
   "cell_type": "code",
   "execution_count": 31,
   "id": "c6b00aca",
   "metadata": {},
   "outputs": [],
   "source": [
    "## feature scaling X_test\n",
    "X_test = ohe(X_test)\n",
    "X_test = minmaxscale(X_test)"
   ]
  },
  {
   "cell_type": "code",
   "execution_count": 32,
   "id": "fbf9c48d",
   "metadata": {},
   "outputs": [
    {
     "data": {
      "text/html": [
       "<div>\n",
       "<style scoped>\n",
       "    .dataframe tbody tr th:only-of-type {\n",
       "        vertical-align: middle;\n",
       "    }\n",
       "\n",
       "    .dataframe tbody tr th {\n",
       "        vertical-align: top;\n",
       "    }\n",
       "\n",
       "    .dataframe thead th {\n",
       "        text-align: right;\n",
       "    }\n",
       "</style>\n",
       "<table border=\"1\" class=\"dataframe\">\n",
       "  <thead>\n",
       "    <tr style=\"text-align: right;\">\n",
       "      <th></th>\n",
       "      <th>ad_id</th>\n",
       "      <th>interest</th>\n",
       "      <th>Impressions</th>\n",
       "      <th>Clicks</th>\n",
       "      <th>Spent</th>\n",
       "      <th>CTR (%)</th>\n",
       "      <th>CpC</th>\n",
       "      <th>campaign_a</th>\n",
       "      <th>campaign_b</th>\n",
       "      <th>campaign_c</th>\n",
       "      <th>30-34</th>\n",
       "      <th>35-39</th>\n",
       "      <th>40-44</th>\n",
       "      <th>45-49</th>\n",
       "      <th>F</th>\n",
       "      <th>M</th>\n",
       "    </tr>\n",
       "  </thead>\n",
       "  <tbody>\n",
       "    <tr>\n",
       "      <th>226</th>\n",
       "      <td>776519</td>\n",
       "      <td>0.562500</td>\n",
       "      <td>0.023096</td>\n",
       "      <td>0.047506</td>\n",
       "      <td>0.049551</td>\n",
       "      <td>0.463495</td>\n",
       "      <td>0.309051</td>\n",
       "      <td>0.0</td>\n",
       "      <td>1.0</td>\n",
       "      <td>0.0</td>\n",
       "      <td>0.0</td>\n",
       "      <td>0.0</td>\n",
       "      <td>0.0</td>\n",
       "      <td>1.0</td>\n",
       "      <td>1.0</td>\n",
       "      <td>0.0</td>\n",
       "    </tr>\n",
       "    <tr>\n",
       "      <th>579</th>\n",
       "      <td>1121206</td>\n",
       "      <td>0.241071</td>\n",
       "      <td>0.074614</td>\n",
       "      <td>0.052257</td>\n",
       "      <td>0.055176</td>\n",
       "      <td>0.158153</td>\n",
       "      <td>0.305296</td>\n",
       "      <td>0.0</td>\n",
       "      <td>0.0</td>\n",
       "      <td>1.0</td>\n",
       "      <td>1.0</td>\n",
       "      <td>0.0</td>\n",
       "      <td>0.0</td>\n",
       "      <td>0.0</td>\n",
       "      <td>0.0</td>\n",
       "      <td>1.0</td>\n",
       "    </tr>\n",
       "    <tr>\n",
       "      <th>885</th>\n",
       "      <td>1121857</td>\n",
       "      <td>0.544643</td>\n",
       "      <td>0.029946</td>\n",
       "      <td>0.028504</td>\n",
       "      <td>0.029987</td>\n",
       "      <td>0.214634</td>\n",
       "      <td>0.306410</td>\n",
       "      <td>0.0</td>\n",
       "      <td>0.0</td>\n",
       "      <td>1.0</td>\n",
       "      <td>1.0</td>\n",
       "      <td>0.0</td>\n",
       "      <td>0.0</td>\n",
       "      <td>0.0</td>\n",
       "      <td>1.0</td>\n",
       "      <td>0.0</td>\n",
       "    </tr>\n",
       "  </tbody>\n",
       "</table>\n",
       "</div>"
      ],
      "text/plain": [
       "       ad_id  interest  Impressions    Clicks     Spent   CTR (%)       CpC  \\\n",
       "226   776519  0.562500     0.023096  0.047506  0.049551  0.463495  0.309051   \n",
       "579  1121206  0.241071     0.074614  0.052257  0.055176  0.158153  0.305296   \n",
       "885  1121857  0.544643     0.029946  0.028504  0.029987  0.214634  0.306410   \n",
       "\n",
       "     campaign_a  campaign_b  campaign_c  30-34  35-39  40-44  45-49    F    M  \n",
       "226         0.0         1.0         0.0    0.0    0.0    0.0    1.0  1.0  0.0  \n",
       "579         0.0         0.0         1.0    1.0    0.0    0.0    0.0  0.0  1.0  \n",
       "885         0.0         0.0         1.0    1.0    0.0    0.0    0.0  1.0  0.0  "
      ]
     },
     "execution_count": 32,
     "metadata": {},
     "output_type": "execute_result"
    }
   ],
   "source": [
    "X_test.head(3)"
   ]
  },
  {
   "cell_type": "markdown",
   "id": "785d284e",
   "metadata": {},
   "source": [
    "## 5. Modeling"
   ]
  },
  {
   "cell_type": "code",
   "execution_count": 33,
   "id": "2c460d52",
   "metadata": {},
   "outputs": [],
   "source": [
    "from sklearn.cluster import KMeans\n",
    "from sklearn.model_selection import train_test_split, cross_validate\n",
    "\n",
    "from sklearn.ensemble import RandomForestRegressor\n",
    "from sklearn.linear_model import LinearRegression, Lasso, ElasticNet\n",
    "from sklearn.tree import DecisionTreeRegressor\n",
    "from sklearn.neighbors import KNeighborsRegressor"
   ]
  },
  {
   "cell_type": "code",
   "execution_count": 34,
   "id": "8d0f7b72",
   "metadata": {},
   "outputs": [
    {
     "data": {
      "text/html": [
       "<div>\n",
       "<style scoped>\n",
       "    .dataframe tbody tr th:only-of-type {\n",
       "        vertical-align: middle;\n",
       "    }\n",
       "\n",
       "    .dataframe tbody tr th {\n",
       "        vertical-align: top;\n",
       "    }\n",
       "\n",
       "    .dataframe thead th {\n",
       "        text-align: right;\n",
       "    }\n",
       "</style>\n",
       "<table border=\"1\" class=\"dataframe\">\n",
       "  <thead>\n",
       "    <tr style=\"text-align: right;\">\n",
       "      <th></th>\n",
       "      <th>Name</th>\n",
       "      <th>r2</th>\n",
       "    </tr>\n",
       "  </thead>\n",
       "  <tbody>\n",
       "    <tr>\n",
       "      <th>1</th>\n",
       "      <td>LinearRegression()</td>\n",
       "      <td>0.48303</td>\n",
       "    </tr>\n",
       "    <tr>\n",
       "      <th>5</th>\n",
       "      <td>RandomForestRegressor()</td>\n",
       "      <td>0.41847</td>\n",
       "    </tr>\n",
       "    <tr>\n",
       "      <th>3</th>\n",
       "      <td>Lasso()</td>\n",
       "      <td>0.06043</td>\n",
       "    </tr>\n",
       "    <tr>\n",
       "      <th>4</th>\n",
       "      <td>ElasticNet()</td>\n",
       "      <td>0.06043</td>\n",
       "    </tr>\n",
       "    <tr>\n",
       "      <th>2</th>\n",
       "      <td>KNeighborsRegressor()</td>\n",
       "      <td>0.00120</td>\n",
       "    </tr>\n",
       "    <tr>\n",
       "      <th>0</th>\n",
       "      <td>DecisionTreeRegressor()</td>\n",
       "      <td>-0.29527</td>\n",
       "    </tr>\n",
       "  </tbody>\n",
       "</table>\n",
       "</div>"
      ],
      "text/plain": [
       "                      Name        r2\n",
       "1       LinearRegression()   0.48303\n",
       "5  RandomForestRegressor()   0.41847\n",
       "3                  Lasso()   0.06043\n",
       "4             ElasticNet()   0.06043\n",
       "2    KNeighborsRegressor()   0.00120\n",
       "0  DecisionTreeRegressor()  -0.29527"
      ]
     },
     "execution_count": 34,
     "metadata": {},
     "output_type": "execute_result"
    }
   ],
   "source": [
    "## comparing regressors to decide which model is most performant, to later be selected as final model\n",
    "## models are evaluated on the training dataset\n",
    "regressors = [DecisionTreeRegressor(), \n",
    "              LinearRegression(), \n",
    "              KNeighborsRegressor(), \n",
    "              Lasso(),\n",
    "              ElasticNet(), \n",
    "              RandomForestRegressor()]\n",
    "\n",
    "comparison_df = []\n",
    "\n",
    "for reg in regressors:\n",
    "    \n",
    "    model = reg\n",
    "    \n",
    "    cv_result = cross_validate(reg, X_train, y_train, cv= 5, scoring=[\"r2\"])\n",
    "    \n",
    "    r2 = cv_result[\"test_r2\"].mean()\n",
    "    \n",
    "    stats = {\"Name\": str(reg),\n",
    "            \"r2\": r2}\n",
    "    \n",
    "    comparison_df.append(stats)\n",
    "    \n",
    "results_df = pd.DataFrame(comparison_df)\n",
    "results_df[\"r2\"] = results_df[\"r2\"].apply(lambda x: '%.5f' % x)\n",
    "\n",
    "results_df.sort_values(by=\"r2\", ascending=False)"
   ]
  },
  {
   "cell_type": "code",
   "execution_count": null,
   "id": "f574bf91",
   "metadata": {},
   "outputs": [],
   "source": []
  },
  {
   "cell_type": "code",
   "execution_count": null,
   "id": "5a34c767",
   "metadata": {},
   "outputs": [],
   "source": []
  },
  {
   "cell_type": "markdown",
   "id": "829905db",
   "metadata": {},
   "source": [
    "**GridSearchCV for hyperparameter tuning to increase model performance**\n",
    "**maybe add feature permutation section**"
   ]
  },
  {
   "cell_type": "markdown",
   "id": "037f3514",
   "metadata": {},
   "source": [
    "## Bonus Section: Building a ML - Pipeline"
   ]
  },
  {
   "cell_type": "code",
   "execution_count": null,
   "id": "da73dcb7",
   "metadata": {},
   "outputs": [],
   "source": []
  },
  {
   "cell_type": "markdown",
   "id": "6028c11e",
   "metadata": {},
   "source": [
    "# Sandbox"
   ]
  },
  {
   "cell_type": "markdown",
   "id": "4fb88971",
   "metadata": {},
   "source": [
    "### Open Questions:\n",
    "\n",
    "1. Optimal Number of Clusters? Does Clustering as Feature Engineering even make Sense here?\n",
    "2. What is the right algorithm here?\n",
    "3. Domain knowledge: does it even make sense to run a regression here?\n",
    "4. Preprocessing: does it make sense to scale y?\n",
    "5. What are loss metrics again?"
   ]
  },
  {
   "cell_type": "markdown",
   "id": "246b4d58",
   "metadata": {},
   "source": [
    "**Idea: create synthetic data by choosing random values from probability distributions found in real data**\n",
    "\n",
    "**Note:**\n",
    "\n",
    "- for synthetic data: only create for training set. split data beforehand to leave testing data untouched"
   ]
  },
  {
   "cell_type": "code",
   "execution_count": null,
   "id": "dfda9643",
   "metadata": {},
   "outputs": [],
   "source": []
  }
 ],
 "metadata": {
  "kernelspec": {
   "display_name": "Python 3 (ipykernel)",
   "language": "python",
   "name": "python3"
  },
  "language_info": {
   "codemirror_mode": {
    "name": "ipython",
    "version": 3
   },
   "file_extension": ".py",
   "mimetype": "text/x-python",
   "name": "python",
   "nbconvert_exporter": "python",
   "pygments_lexer": "ipython3",
   "version": "3.8.12"
  },
  "toc": {
   "base_numbering": 1,
   "nav_menu": {},
   "number_sections": false,
   "sideBar": true,
   "skip_h1_title": true,
   "title_cell": "Table of Contents",
   "title_sidebar": "Contents",
   "toc_cell": false,
   "toc_position": {},
   "toc_section_display": true,
   "toc_window_display": false
  }
 },
 "nbformat": 4,
 "nbformat_minor": 5
}
