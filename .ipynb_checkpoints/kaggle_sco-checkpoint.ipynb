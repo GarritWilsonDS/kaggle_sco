{
 "cells": [
  {
   "cell_type": "markdown",
   "id": "ba58b4b7",
   "metadata": {},
   "source": [
    "# Sales Conversion Optimization"
   ]
  },
  {
   "cell_type": "markdown",
   "id": "3b85cc86",
   "metadata": {},
   "source": [
    "Link to kaggle challenge:\n",
    "\n",
    "*https://www.kaggle.com/datasets/loveall/clicks-conversion-tracking?resource=download*\n",
    "\n",
    "----"
   ]
  },
  {
   "cell_type": "code",
   "execution_count": 1,
   "id": "db92a8f4",
   "metadata": {},
   "outputs": [],
   "source": [
    "import pandas as pd\n",
    "import numpy as np\n",
    "import seaborn as sns\n",
    "import matplotlib.pyplot as plt"
   ]
  },
  {
   "cell_type": "code",
   "execution_count": 3,
   "id": "e45f9d3d",
   "metadata": {},
   "outputs": [],
   "source": [
    "data = pd.read_csv('data/KAG_conversion_data.csv')"
   ]
  },
  {
   "cell_type": "code",
   "execution_count": 4,
   "id": "7d5d5b55",
   "metadata": {},
   "outputs": [
    {
     "data": {
      "text/plain": [
       "(1143, 11)"
      ]
     },
     "execution_count": 4,
     "metadata": {},
     "output_type": "execute_result"
    }
   ],
   "source": [
    "data.shape"
   ]
  },
  {
   "cell_type": "markdown",
   "id": "4f18017f",
   "metadata": {},
   "source": [
    "## 1. Data Cleaning"
   ]
  },
  {
   "cell_type": "code",
   "execution_count": 21,
   "id": "e8a3e315",
   "metadata": {},
   "outputs": [],
   "source": [
    "## dropping unnecessary columns\n",
    "data.drop(\"fb_campaign_id\", axis=1, inplace=True)"
   ]
  },
  {
   "cell_type": "markdown",
   "id": "8db00d4e",
   "metadata": {},
   "source": [
    "### 2.1 Missing Values"
   ]
  },
  {
   "cell_type": "code",
   "execution_count": 16,
   "id": "e7630d26",
   "metadata": {},
   "outputs": [
    {
     "data": {
      "text/plain": [
       "ad_id                  0\n",
       "xyz_campaign_id        0\n",
       "fb_campaign_id         0\n",
       "age                    0\n",
       "gender                 0\n",
       "interest               0\n",
       "Impressions            0\n",
       "Clicks                 0\n",
       "Spent                  0\n",
       "Total_Conversion       0\n",
       "Approved_Conversion    0\n",
       "dtype: int64"
      ]
     },
     "execution_count": 16,
     "metadata": {},
     "output_type": "execute_result"
    }
   ],
   "source": [
    "data.isnull().sum()"
   ]
  },
  {
   "cell_type": "markdown",
   "id": "6aa4b40e",
   "metadata": {},
   "source": [
    "### 2.2 Duplicates"
   ]
  },
  {
   "cell_type": "code",
   "execution_count": 18,
   "id": "3ad0bec2",
   "metadata": {},
   "outputs": [
    {
     "data": {
      "text/plain": [
       "0"
      ]
     },
     "execution_count": 18,
     "metadata": {},
     "output_type": "execute_result"
    }
   ],
   "source": [
    "data.duplicated().sum()"
   ]
  },
  {
   "cell_type": "markdown",
   "id": "85691d23",
   "metadata": {},
   "source": [
    "### 2.3 Outliers"
   ]
  },
  {
   "cell_type": "code",
   "execution_count": 19,
   "id": "08aec8f2",
   "metadata": {},
   "outputs": [
    {
     "data": {
      "text/html": [
       "<div>\n",
       "<style scoped>\n",
       "    .dataframe tbody tr th:only-of-type {\n",
       "        vertical-align: middle;\n",
       "    }\n",
       "\n",
       "    .dataframe tbody tr th {\n",
       "        vertical-align: top;\n",
       "    }\n",
       "\n",
       "    .dataframe thead th {\n",
       "        text-align: right;\n",
       "    }\n",
       "</style>\n",
       "<table border=\"1\" class=\"dataframe\">\n",
       "  <thead>\n",
       "    <tr style=\"text-align: right;\">\n",
       "      <th></th>\n",
       "      <th>ad_id</th>\n",
       "      <th>xyz_campaign_id</th>\n",
       "      <th>fb_campaign_id</th>\n",
       "      <th>age</th>\n",
       "      <th>gender</th>\n",
       "      <th>interest</th>\n",
       "      <th>Impressions</th>\n",
       "      <th>Clicks</th>\n",
       "      <th>Spent</th>\n",
       "      <th>Total_Conversion</th>\n",
       "      <th>Approved_Conversion</th>\n",
       "    </tr>\n",
       "  </thead>\n",
       "  <tbody>\n",
       "    <tr>\n",
       "      <th>0</th>\n",
       "      <td>708746</td>\n",
       "      <td>916</td>\n",
       "      <td>103916</td>\n",
       "      <td>30-34</td>\n",
       "      <td>M</td>\n",
       "      <td>15</td>\n",
       "      <td>7350</td>\n",
       "      <td>1</td>\n",
       "      <td>1.43</td>\n",
       "      <td>2</td>\n",
       "      <td>1</td>\n",
       "    </tr>\n",
       "    <tr>\n",
       "      <th>1</th>\n",
       "      <td>708749</td>\n",
       "      <td>916</td>\n",
       "      <td>103917</td>\n",
       "      <td>30-34</td>\n",
       "      <td>M</td>\n",
       "      <td>16</td>\n",
       "      <td>17861</td>\n",
       "      <td>2</td>\n",
       "      <td>1.82</td>\n",
       "      <td>2</td>\n",
       "      <td>0</td>\n",
       "    </tr>\n",
       "  </tbody>\n",
       "</table>\n",
       "</div>"
      ],
      "text/plain": [
       "    ad_id  xyz_campaign_id  fb_campaign_id    age gender  interest  \\\n",
       "0  708746              916          103916  30-34      M        15   \n",
       "1  708749              916          103917  30-34      M        16   \n",
       "\n",
       "   Impressions  Clicks  Spent  Total_Conversion  Approved_Conversion  \n",
       "0         7350       1   1.43                 2                    1  \n",
       "1        17861       2   1.82                 2                    0  "
      ]
     },
     "execution_count": 19,
     "metadata": {},
     "output_type": "execute_result"
    }
   ],
   "source": [
    "data.head(2)"
   ]
  },
  {
   "cell_type": "code",
   "execution_count": 42,
   "id": "f6461b3f",
   "metadata": {},
   "outputs": [
    {
     "data": {
      "text/plain": [
       "Text(0.5, 1.0, 'Amount of Ads per Interest Group')"
      ]
     },
     "execution_count": 42,
     "metadata": {},
     "output_type": "execute_result"
    },
    {
     "data": {
      "image/png": "[encoded data removed]",
      "text/plain": [
       "<Figure size 1080x288 with 1 Axes>"
      ]
     },
     "metadata": {
      "needs_background": "light"
     },
     "output_type": "display_data"
    }
   ],
   "source": [
    "## checking for outliers in 'interst'\n",
    "plt.figure(figsize=(15,4))\n",
    "data.interest.value_counts().plot(kind=\"bar\")\n",
    "plt.title(\"Amount of Ads per Interest Group\", size=15);"
   ]
  },
  {
   "cell_type": "code",
   "execution_count": 41,
   "id": "a0248946",
   "metadata": {},
   "outputs": [
    {
     "data": {
      "text/plain": [
       "Text(0.5, 1.0, 'Distribution of Impressions')"
      ]
     },
     "execution_count": 41,
     "metadata": {},
     "output_type": "execute_result"
    },
    {
     "data": {
      "image/png": "[encoded data removed]",
      "text/plain": [
       "<Figure size 1080x288 with 1 Axes>"
      ]
     },
     "metadata": {
      "needs_background": "light"
     },
     "output_type": "display_data"
    }
   ],
   "source": [
    "## checking for outliers in Impressions\n",
    "plt.figure(figsize=(15,4))\n",
    "sns.boxplot(x=data.Impressions)\n",
    "plt.title(\"Distribution of Impressions\", size=15);"
   ]
  },
  {
   "cell_type": "code",
   "execution_count": 57,
   "id": "9f151b1b",
   "metadata": {},
   "outputs": [
    {
     "data": {
      "text/html": [
       "<div>\n",
       "<style scoped>\n",
       "    .dataframe tbody tr th:only-of-type {\n",
       "        vertical-align: middle;\n",
       "    }\n",
       "\n",
       "    .dataframe tbody tr th {\n",
       "        vertical-align: top;\n",
       "    }\n",
       "\n",
       "    .dataframe thead th {\n",
       "        text-align: right;\n",
       "    }\n",
       "</style>\n",
       "<table border=\"1\" class=\"dataframe\">\n",
       "  <thead>\n",
       "    <tr style=\"text-align: right;\">\n",
       "      <th></th>\n",
       "      <th>ad_id</th>\n",
       "      <th>xyz_campaign_id</th>\n",
       "      <th>age</th>\n",
       "      <th>gender</th>\n",
       "      <th>interest</th>\n",
       "      <th>Impressions</th>\n",
       "      <th>Clicks</th>\n",
       "      <th>Spent</th>\n",
       "      <th>Total_Conversion</th>\n",
       "      <th>Approved_Conversion</th>\n",
       "    </tr>\n",
       "  </thead>\n",
       "  <tbody>\n",
       "    <tr>\n",
       "      <th>525</th>\n",
       "      <td>1121100</td>\n",
       "      <td>1178</td>\n",
       "      <td>30-34</td>\n",
       "      <td>M</td>\n",
       "      <td>15</td>\n",
       "      <td>3052003</td>\n",
       "      <td>340</td>\n",
       "      <td>639.949998</td>\n",
       "      <td>60</td>\n",
       "      <td>17</td>\n",
       "    </tr>\n",
       "    <tr>\n",
       "      <th>765</th>\n",
       "      <td>1121601</td>\n",
       "      <td>1178</td>\n",
       "      <td>45-49</td>\n",
       "      <td>M</td>\n",
       "      <td>16</td>\n",
       "      <td>2286228</td>\n",
       "      <td>353</td>\n",
       "      <td>603.380002</td>\n",
       "      <td>16</td>\n",
       "      <td>7</td>\n",
       "    </tr>\n",
       "    <tr>\n",
       "      <th>860</th>\n",
       "      <td>1121814</td>\n",
       "      <td>1178</td>\n",
       "      <td>30-34</td>\n",
       "      <td>F</td>\n",
       "      <td>27</td>\n",
       "      <td>2223278</td>\n",
       "      <td>421</td>\n",
       "      <td>612.300003</td>\n",
       "      <td>38</td>\n",
       "      <td>13</td>\n",
       "    </tr>\n",
       "    <tr>\n",
       "      <th>528</th>\n",
       "      <td>1121104</td>\n",
       "      <td>1178</td>\n",
       "      <td>30-34</td>\n",
       "      <td>M</td>\n",
       "      <td>16</td>\n",
       "      <td>2080666</td>\n",
       "      <td>202</td>\n",
       "      <td>360.150001</td>\n",
       "      <td>40</td>\n",
       "      <td>21</td>\n",
       "    </tr>\n",
       "    <tr>\n",
       "      <th>867</th>\n",
       "      <td>1121824</td>\n",
       "      <td>1178</td>\n",
       "      <td>30-34</td>\n",
       "      <td>F</td>\n",
       "      <td>29</td>\n",
       "      <td>1705246</td>\n",
       "      <td>295</td>\n",
       "      <td>429.479998</td>\n",
       "      <td>23</td>\n",
       "      <td>10</td>\n",
       "    </tr>\n",
       "  </tbody>\n",
       "</table>\n",
       "</div>"
      ],
      "text/plain": [
       "       ad_id  xyz_campaign_id    age gender  interest  Impressions  Clicks  \\\n",
       "525  1121100             1178  30-34      M        15      3052003     340   \n",
       "765  1121601             1178  45-49      M        16      2286228     353   \n",
       "860  1121814             1178  30-34      F        27      2223278     421   \n",
       "528  1121104             1178  30-34      M        16      2080666     202   \n",
       "867  1121824             1178  30-34      F        29      1705246     295   \n",
       "\n",
       "          Spent  Total_Conversion  Approved_Conversion  \n",
       "525  639.949998                60                   17  \n",
       "765  603.380002                16                    7  \n",
       "860  612.300003                38                   13  \n",
       "528  360.150001                40                   21  \n",
       "867  429.479998                23                   10  "
      ]
     },
     "execution_count": 57,
     "metadata": {},
     "output_type": "execute_result"
    }
   ],
   "source": [
    "## Inspecting Outliers\n",
    "data.sort_values(by=\"Impressions\", ascending=False)[:5]"
   ]
  },
  {
   "cell_type": "markdown",
   "id": "f7de25ae",
   "metadata": {},
   "source": [
    "(Outliers are decided to be left in the dataset, as there is no evidence for them being wrong data entries)"
   ]
  },
  {
   "cell_type": "code",
   "execution_count": 54,
   "id": "62bffe9e",
   "metadata": {},
   "outputs": [
    {
     "data": {
      "image/png": "[encoded data removed]",
      "text/plain": [
       "<Figure size 1080x288 with 1 Axes>"
      ]
     },
     "metadata": {
      "needs_background": "light"
     },
     "output_type": "display_data"
    }
   ],
   "source": [
    "## checking for outliers in 'Spent'\n",
    "plt.figure(figsize=(15,4))\n",
    "sns.histplot(x=data.Spent)\n",
    "plt.title(\"Distribution of Ad Spent\", size=15);"
   ]
  },
  {
   "cell_type": "code",
   "execution_count": 56,
   "id": "51e06890",
   "metadata": {},
   "outputs": [
    {
     "data": {
      "text/html": [
       "<div>\n",
       "<style scoped>\n",
       "    .dataframe tbody tr th:only-of-type {\n",
       "        vertical-align: middle;\n",
       "    }\n",
       "\n",
       "    .dataframe tbody tr th {\n",
       "        vertical-align: top;\n",
       "    }\n",
       "\n",
       "    .dataframe thead th {\n",
       "        text-align: right;\n",
       "    }\n",
       "</style>\n",
       "<table border=\"1\" class=\"dataframe\">\n",
       "  <thead>\n",
       "    <tr style=\"text-align: right;\">\n",
       "      <th></th>\n",
       "      <th>ad_id</th>\n",
       "      <th>xyz_campaign_id</th>\n",
       "      <th>age</th>\n",
       "      <th>gender</th>\n",
       "      <th>interest</th>\n",
       "      <th>Impressions</th>\n",
       "      <th>Clicks</th>\n",
       "      <th>Spent</th>\n",
       "      <th>Total_Conversion</th>\n",
       "      <th>Approved_Conversion</th>\n",
       "    </tr>\n",
       "  </thead>\n",
       "  <tbody>\n",
       "    <tr>\n",
       "      <th>525</th>\n",
       "      <td>1121100</td>\n",
       "      <td>1178</td>\n",
       "      <td>30-34</td>\n",
       "      <td>M</td>\n",
       "      <td>15</td>\n",
       "      <td>3052003</td>\n",
       "      <td>340</td>\n",
       "      <td>639.949998</td>\n",
       "      <td>60</td>\n",
       "      <td>17</td>\n",
       "    </tr>\n",
       "    <tr>\n",
       "      <th>860</th>\n",
       "      <td>1121814</td>\n",
       "      <td>1178</td>\n",
       "      <td>30-34</td>\n",
       "      <td>F</td>\n",
       "      <td>27</td>\n",
       "      <td>2223278</td>\n",
       "      <td>421</td>\n",
       "      <td>612.300003</td>\n",
       "      <td>38</td>\n",
       "      <td>13</td>\n",
       "    </tr>\n",
       "    <tr>\n",
       "      <th>765</th>\n",
       "      <td>1121601</td>\n",
       "      <td>1178</td>\n",
       "      <td>45-49</td>\n",
       "      <td>M</td>\n",
       "      <td>16</td>\n",
       "      <td>2286228</td>\n",
       "      <td>353</td>\n",
       "      <td>603.380002</td>\n",
       "      <td>16</td>\n",
       "      <td>7</td>\n",
       "    </tr>\n",
       "    <tr>\n",
       "      <th>1026</th>\n",
       "      <td>1122265</td>\n",
       "      <td>1178</td>\n",
       "      <td>45-49</td>\n",
       "      <td>F</td>\n",
       "      <td>27</td>\n",
       "      <td>1428421</td>\n",
       "      <td>367</td>\n",
       "      <td>541.700002</td>\n",
       "      <td>10</td>\n",
       "      <td>0</td>\n",
       "    </tr>\n",
       "    <tr>\n",
       "      <th>995</th>\n",
       "      <td>1122193</td>\n",
       "      <td>1178</td>\n",
       "      <td>45-49</td>\n",
       "      <td>F</td>\n",
       "      <td>10</td>\n",
       "      <td>1358324</td>\n",
       "      <td>346</td>\n",
       "      <td>465.079998</td>\n",
       "      <td>8</td>\n",
       "      <td>2</td>\n",
       "    </tr>\n",
       "  </tbody>\n",
       "</table>\n",
       "</div>"
      ],
      "text/plain": [
       "        ad_id  xyz_campaign_id    age gender  interest  Impressions  Clicks  \\\n",
       "525   1121100             1178  30-34      M        15      3052003     340   \n",
       "860   1121814             1178  30-34      F        27      2223278     421   \n",
       "765   1121601             1178  45-49      M        16      2286228     353   \n",
       "1026  1122265             1178  45-49      F        27      1428421     367   \n",
       "995   1122193             1178  45-49      F        10      1358324     346   \n",
       "\n",
       "           Spent  Total_Conversion  Approved_Conversion  \n",
       "525   639.949998                60                   17  \n",
       "860   612.300003                38                   13  \n",
       "765   603.380002                16                    7  \n",
       "1026  541.700002                10                    0  \n",
       "995   465.079998                 8                    2  "
      ]
     },
     "execution_count": 56,
     "metadata": {},
     "output_type": "execute_result"
    }
   ],
   "source": [
    "## Inspecting Outliers\n",
    "data.sort_values(by=\"Spent\", ascending=False)[:5]"
   ]
  },
  {
   "cell_type": "markdown",
   "id": "17ca3bf5",
   "metadata": {},
   "source": [
    "(Outliers are decided to be left in the dataset, as there is no evidence for them being wrong data entries)"
   ]
  },
  {
   "cell_type": "code",
   "execution_count": 55,
   "id": "f68c886f",
   "metadata": {},
   "outputs": [
    {
     "data": {
      "image/png": "[encoded data removed]",
      "text/plain": [
       "<Figure size 1080x288 with 1 Axes>"
      ]
     },
     "metadata": {
      "needs_background": "light"
     },
     "output_type": "display_data"
    }
   ],
   "source": [
    "## checking outliers for conversions\n",
    "plt.figure(figsize=(15,4))\n",
    "sns.boxplot(x=data.Approved_Conversion)\n",
    "plt.title(\"Distribution of Approved Conversions\", size=15);"
   ]
  },
  {
   "cell_type": "markdown",
   "id": "65f0ec8d",
   "metadata": {},
   "source": [
    "**Notes:**\n",
    "\n",
    "The distributions for all continuous variables are highly skewed, with some extreme values compared to measures of centrality. The data appears to be real however, and represents actual, real phenomena (such as increases in ad spend correlating with increases in Impressions and Conversions; correlations are examined in the next section). \n",
    "\n",
    "These observations are therefore left in the dataset."
   ]
  },
  {
   "cell_type": "markdown",
   "id": "74120e5c",
   "metadata": {},
   "source": [
    "## 2. Exploraroty Analysis"
   ]
  },
  {
   "cell_type": "code",
   "execution_count": 5,
   "id": "2bc1590e",
   "metadata": {},
   "outputs": [
    {
     "data": {
      "text/plain": [
       "1143"
      ]
     },
     "execution_count": 5,
     "metadata": {},
     "output_type": "execute_result"
    }
   ],
   "source": [
    "## amount of unique ads\n",
    "len(data.ad_id.unique())"
   ]
  },
  {
   "cell_type": "code",
   "execution_count": 6,
   "id": "8a93feec",
   "metadata": {},
   "outputs": [
    {
     "data": {
      "text/plain": [
       "3"
      ]
     },
     "execution_count": 6,
     "metadata": {},
     "output_type": "execute_result"
    }
   ],
   "source": [
    "## amount of company campaigns\n",
    "len(data.xyz_campaign_id.unique())"
   ]
  },
  {
   "cell_type": "code",
   "execution_count": 7,
   "id": "e392bbee",
   "metadata": {},
   "outputs": [
    {
     "data": {
      "text/plain": [
       "691"
      ]
     },
     "execution_count": 7,
     "metadata": {},
     "output_type": "execute_result"
    }
   ],
   "source": [
    "## amount of unique fb ad campaigns\n",
    "len(data.fb_campaign_id.unique())"
   ]
  },
  {
   "cell_type": "code",
   "execution_count": 8,
   "id": "856f62ac",
   "metadata": {},
   "outputs": [
    {
     "data": {
      "text/plain": [
       "xyz_campaign_id\n",
       "916      54\n",
       "936     464\n",
       "1178    625\n",
       "Name: ad_id, dtype: int64"
      ]
     },
     "execution_count": 8,
     "metadata": {},
     "output_type": "execute_result"
    }
   ],
   "source": [
    "## amount of unique ads per company campaign\n",
    "data.groupby(\"xyz_campaign_id\")[\"ad_id\"].nunique()"
   ]
  },
  {
   "cell_type": "code",
   "execution_count": 9,
   "id": "7652a955",
   "metadata": {},
   "outputs": [
    {
     "data": {
      "image/png": "[encoded data removed]",
      "text/plain": [
       "<Figure size 432x288 with 1 Axes>"
      ]
     },
     "metadata": {
      "needs_background": "light"
     },
     "output_type": "display_data"
    }
   ],
   "source": [
    "## amount of nr of ads per fb campaign, visualized\n",
    "tmp = data.groupby(\"fb_campaign_id\")[\"ad_id\"].nunique()\n",
    "plt.hist(tmp);"
   ]
  },
  {
   "cell_type": "markdown",
   "id": "417b538f",
   "metadata": {},
   "source": [
    "##### Notes:\n",
    "\n",
    "1. 3 campaigns internally in the company\n",
    "2. 691 registered campaigns on fb\n",
    "3. 1143 individual ads in total\n",
    "4. unevenly distributed amounts of individual ads per campaign (from 1 to 6)"
   ]
  },
  {
   "cell_type": "markdown",
   "id": "13546e46",
   "metadata": {},
   "source": [
    "#### Average amount spent per ad"
   ]
  },
  {
   "cell_type": "code",
   "execution_count": 10,
   "id": "e845f2f9",
   "metadata": {},
   "outputs": [
    {
     "name": "stdout",
     "output_type": "stream",
     "text": [
      "Average amount (median, due to skew) spent per ad: 12.37\n"
     ]
    }
   ],
   "source": [
    "avg = round(data.Spent.median(),2)\n",
    "\n",
    "print(f'Average amount (median, due to skew) spent per ad: {avg}')"
   ]
  },
  {
   "cell_type": "code",
   "execution_count": 11,
   "id": "b35631da",
   "metadata": {},
   "outputs": [
    {
     "data": {
      "image/png": "[encoded data removed]",
      "text/plain": [
       "<Figure size 1080x576 with 1 Axes>"
      ]
     },
     "metadata": {
      "needs_background": "light"
     },
     "output_type": "display_data"
    }
   ],
   "source": [
    "plt.figure(figsize=(15,8))\n",
    "plt.hist(data.Spent, bins=80)\n",
    "\n",
    "plt.title(\"Amount spent per Ad\", size=20);"
   ]
  },
  {
   "cell_type": "markdown",
   "id": "33f60992",
   "metadata": {},
   "source": [
    "#### Number of conversions"
   ]
  },
  {
   "cell_type": "code",
   "execution_count": 12,
   "id": "a71b4dca",
   "metadata": {},
   "outputs": [
    {
     "name": "stderr",
     "output_type": "stream",
     "text": [
      "/Users/garritwilson/.pyenv/versions/3.8.12/envs/li-monitoring/lib/python3.8/site-packages/seaborn/_decorators.py:36: FutureWarning: Pass the following variable as a keyword arg: x. From version 0.12, the only valid positional argument will be `data`, and passing other arguments without an explicit keyword will result in an error or misinterpretation.\n",
      "  warnings.warn(\n"
     ]
    },
    {
     "data": {
      "image/png": "[encoded data removed]",
      "text/plain": [
       "<Figure size 432x288 with 1 Axes>"
      ]
     },
     "metadata": {
      "needs_background": "light"
     },
     "output_type": "display_data"
    }
   ],
   "source": [
    "plt.figure(figsize=(6,4))\n",
    "sns.boxplot(data.Approved_Conversion);"
   ]
  },
  {
   "cell_type": "code",
   "execution_count": 13,
   "id": "b3155adb",
   "metadata": {},
   "outputs": [
    {
     "data": {
      "text/plain": [
       "<matplotlib.collections.PathCollection at 0x17a395be0>"
      ]
     },
     "execution_count": 13,
     "metadata": {},
     "output_type": "execute_result"
    },
    {
     "data": {
      "image/png": "[encoded data removed]",
      "text/plain": [
       "<Figure size 432x288 with 1 Axes>"
      ]
     },
     "metadata": {
      "needs_background": "light"
     },
     "output_type": "display_data"
    }
   ],
   "source": [
    "## Is there a relationship between Ad Spend and Conversion?\n",
    "plt.scatter(x= data.Approved_Conversion, y= data.Spent)"
   ]
  },
  {
   "cell_type": "code",
   "execution_count": 14,
   "id": "e38133b5",
   "metadata": {},
   "outputs": [
    {
     "data": {
      "text/plain": [
       "<AxesSubplot:xlabel='Approved_Conversion', ylabel='Spent'>"
      ]
     },
     "execution_count": 14,
     "metadata": {},
     "output_type": "execute_result"
    },
    {
     "data": {
      "image/png": "[encoded data removed]",
      "text/plain": [
       "<Figure size 432x288 with 1 Axes>"
      ]
     },
     "metadata": {
      "needs_background": "light"
     },
     "output_type": "display_data"
    }
   ],
   "source": [
    "## Is there a relationship between Ad Spend and Conversion?\n",
    "sns.regplot(x = \"Approved_Conversion\",\n",
    "            y= \"Spent\",\n",
    "           data= data)"
   ]
  },
  {
   "cell_type": "markdown",
   "id": "fdf869d9",
   "metadata": {},
   "source": [
    "## 3. Data Preparation for Modeling"
   ]
  },
  {
   "cell_type": "markdown",
   "id": "d47aa407",
   "metadata": {},
   "source": [
    "**Add: Feature Scaling"
   ]
  },
  {
   "cell_type": "markdown",
   "id": "03ddc958",
   "metadata": {},
   "source": [
    "*subsequently delete / merge section*"
   ]
  },
  {
   "cell_type": "code",
   "execution_count": null,
   "id": "4b4259b2",
   "metadata": {},
   "outputs": [],
   "source": [
    "data.head(2)"
   ]
  },
  {
   "cell_type": "code",
   "execution_count": null,
   "id": "adbcc896",
   "metadata": {},
   "outputs": [],
   "source": [
    "data.drop(\"fb_campaign_id\", axis=1, inplace= True)"
   ]
  },
  {
   "cell_type": "code",
   "execution_count": null,
   "id": "4139ec1b",
   "metadata": {},
   "outputs": [],
   "source": [
    "data[\"xyz_campaign_id\"].replace({916:\"campaign_a\" ,936:\"campaign_b\" ,1178:\"campaign_c\"}, inplace=True)"
   ]
  },
  {
   "cell_type": "code",
   "execution_count": null,
   "id": "25b2b105",
   "metadata": {},
   "outputs": [],
   "source": [
    "from sklearn.preprocessing import LabelEncoder\n",
    "\n",
    "encoder = LabelEncoder()\n",
    "\n",
    "for col in [\"xyz_campaign_id\", \"age\", \"gender\"]:\n",
    "    \n",
    "    encoder.fit(data[col])\n",
    "    \n",
    "    data[col] = encoder.transform(data[col])\n",
    "    \n",
    "    print(col, data[col].nunique())"
   ]
  },
  {
   "cell_type": "markdown",
   "id": "fc375f73",
   "metadata": {},
   "source": [
    "## 4. Feature Engineering"
   ]
  },
  {
   "cell_type": "markdown",
   "id": "78eea11b",
   "metadata": {},
   "source": [
    "1. CTR (click-through-rate)\n",
    "2. Conversion Rate\n",
    "3. Cost per Click\n",
    "4. Cost per Conversion"
   ]
  },
  {
   "cell_type": "code",
   "execution_count": null,
   "id": "7aed8ad3",
   "metadata": {},
   "outputs": [],
   "source": [
    "data.head()"
   ]
  },
  {
   "cell_type": "code",
   "execution_count": null,
   "id": "98621c46",
   "metadata": {},
   "outputs": [],
   "source": [
    "## calculating CTR\n",
    "data[\"CTR (%)\"] = (data[\"Clicks\"] / data[\"Impressions\"]) * 100"
   ]
  },
  {
   "cell_type": "code",
   "execution_count": null,
   "id": "f03a3a75",
   "metadata": {},
   "outputs": [],
   "source": [
    "## calculating Conversion Rate\n",
    "\n",
    "mask = (data[\"Clicks\"] != 0)\n",
    "data_valid = data[mask]\n",
    "\n",
    "data[\"CR (%)\"] = 0\n",
    "\n",
    "data.loc[mask, \"CR (%)\"] = (data_valid[\"Approved_Conversion\"] / data_valid[\"Clicks\"]) * 100"
   ]
  },
  {
   "cell_type": "markdown",
   "id": "fef820f3",
   "metadata": {},
   "source": [
    "*https://stackoverflow.com/questions/33769860/pandas-apply-but-only-for-rows-where-a-condition-is-met*"
   ]
  },
  {
   "cell_type": "code",
   "execution_count": null,
   "id": "ddb467c3",
   "metadata": {},
   "outputs": [],
   "source": [
    "## calculating Cost per Click\n",
    "\n",
    "mask = (data[\"Clicks\"] != 0)\n",
    "data_valid = data[mask]\n",
    "\n",
    "data[\"CpC\"] = 0\n",
    "\n",
    "data.loc[mask, \"CpC\"] = data[\"Clicks\"] / data[\"Spent\"]"
   ]
  },
  {
   "cell_type": "code",
   "execution_count": null,
   "id": "1efc0bd0",
   "metadata": {},
   "outputs": [],
   "source": [
    "## calculating cost per conversion\n",
    "\n",
    "mask = (data[\"Spent\"] != 0) & (data[\"Approved_Conversion\"] != 0)\n",
    "data_valid = data[mask]\n",
    "\n",
    "data[\"CpConv\"] = 0\n",
    "\n",
    "data.loc[mask, \"CpConv\"] = data[\"Spent\"] / data[\"Approved_Conversion\"]"
   ]
  },
  {
   "cell_type": "markdown",
   "id": "552dfd3f",
   "metadata": {},
   "source": [
    "### Clustering as part of Feature Engineering"
   ]
  },
  {
   "cell_type": "code",
   "execution_count": null,
   "id": "98636c39",
   "metadata": {},
   "outputs": [],
   "source": [
    "from sklearn.cluster import KMeans"
   ]
  },
  {
   "cell_type": "code",
   "execution_count": null,
   "id": "8809da70",
   "metadata": {},
   "outputs": [],
   "source": [
    "km = KMeans(n_clusters= 4)"
   ]
  },
  {
   "cell_type": "code",
   "execution_count": null,
   "id": "c8840f82",
   "metadata": {},
   "outputs": [],
   "source": [
    "km.fit(data.drop([\"Total_Conversion\", \"Approved_Conversion\"], axis= 1))"
   ]
  },
  {
   "cell_type": "code",
   "execution_count": null,
   "id": "e6a98dc7",
   "metadata": {},
   "outputs": [],
   "source": [
    "data[\"Cluster\"] = km.labels_"
   ]
  },
  {
   "cell_type": "code",
   "execution_count": null,
   "id": "e09d696a",
   "metadata": {},
   "outputs": [],
   "source": [
    "data.head()"
   ]
  },
  {
   "cell_type": "markdown",
   "id": "276bb46d",
   "metadata": {},
   "source": [
    "**(Missing: Feature Scaling!)**"
   ]
  },
  {
   "cell_type": "markdown",
   "id": "785d284e",
   "metadata": {},
   "source": [
    "## 5. Modeling"
   ]
  },
  {
   "cell_type": "code",
   "execution_count": null,
   "id": "be613034",
   "metadata": {},
   "outputs": [],
   "source": [
    "from sklearn.ensemble import RandomForestRegressor\n",
    "from sklearn.model_selection import train_test_split"
   ]
  },
  {
   "cell_type": "code",
   "execution_count": null,
   "id": "d9ae7f35",
   "metadata": {},
   "outputs": [],
   "source": [
    "forest = RandomForestRegressor(n_estimators= 100)"
   ]
  },
  {
   "cell_type": "code",
   "execution_count": null,
   "id": "8cc64a3c",
   "metadata": {},
   "outputs": [],
   "source": [
    "X = data.drop([\"ad_id\",\"Approved_Conversion\", \"Total_Conversion\"], axis= 1)\n",
    "y = data[\"Approved_Conversion\"]"
   ]
  },
  {
   "cell_type": "code",
   "execution_count": null,
   "id": "d3ee298d",
   "metadata": {},
   "outputs": [],
   "source": [
    "X_train, X_test, y_train, y_test = train_test_split(X, y, \n",
    "                                                   test_size= 0.33)"
   ]
  },
  {
   "cell_type": "code",
   "execution_count": null,
   "id": "d845dfd1",
   "metadata": {},
   "outputs": [],
   "source": [
    "forest.fit(X_train, y_train)"
   ]
  },
  {
   "cell_type": "markdown",
   "id": "1c9adde9",
   "metadata": {},
   "source": [
    "## 6. Evaluation"
   ]
  },
  {
   "cell_type": "code",
   "execution_count": null,
   "id": "92604c64",
   "metadata": {},
   "outputs": [],
   "source": [
    "from sklearn.metrics import mean_squared_error"
   ]
  },
  {
   "cell_type": "code",
   "execution_count": null,
   "id": "a66daa81",
   "metadata": {},
   "outputs": [],
   "source": [
    "y_pred = forest.predict(X_test)"
   ]
  },
  {
   "cell_type": "code",
   "execution_count": null,
   "id": "e0c4d713",
   "metadata": {},
   "outputs": [],
   "source": [
    "mse = mean_squared_error(y_test, y_pred)"
   ]
  },
  {
   "cell_type": "code",
   "execution_count": null,
   "id": "9ca52d7e",
   "metadata": {},
   "outputs": [],
   "source": [
    "mse"
   ]
  },
  {
   "cell_type": "markdown",
   "id": "6af78deb",
   "metadata": {},
   "source": [
    "## Bonus Section: Building a ML - Pipeline"
   ]
  },
  {
   "cell_type": "code",
   "execution_count": null,
   "id": "cad5e529",
   "metadata": {},
   "outputs": [],
   "source": []
  },
  {
   "cell_type": "markdown",
   "id": "6028c11e",
   "metadata": {},
   "source": [
    "# Sandbox"
   ]
  },
  {
   "cell_type": "code",
   "execution_count": null,
   "id": "09c86751",
   "metadata": {},
   "outputs": [],
   "source": []
  }
 ],
 "metadata": {
  "kernelspec": {
   "display_name": "Python 3 (ipykernel)",
   "language": "python",
   "name": "python3"
  },
  "language_info": {
   "codemirror_mode": {
    "name": "ipython",
    "version": 3
   },
   "file_extension": ".py",
   "mimetype": "text/x-python",
   "name": "python",
   "nbconvert_exporter": "python",
   "pygments_lexer": "ipython3",
   "version": "3.8.12"
  },
  "toc": {
   "base_numbering": 1,
   "nav_menu": {},
   "number_sections": false,
   "sideBar": true,
   "skip_h1_title": true,
   "title_cell": "Table of Contents",
   "title_sidebar": "Contents",
   "toc_cell": false,
   "toc_position": {},
   "toc_section_display": true,
   "toc_window_display": false
  }
 },
 "nbformat": 4,
 "nbformat_minor": 5
}
