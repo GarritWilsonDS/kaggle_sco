{
 "cells": [
  {
   "cell_type": "markdown",
   "id": "ba58b4b7",
   "metadata": {},
   "source": [
    "# Sales Conversion Optimization"
   ]
  },
  {
   "cell_type": "markdown",
   "id": "3b85cc86",
   "metadata": {},
   "source": [
    "In this notebook we are performing a Sales Conversion Optimization Analysis.\n",
    "The data is taken from 3 different facebook ad campaigns. \n",
    "The aim of the campaign is assumed to be profit, we therefore take conversion as indicator for success.\n",
    "The present analysis will look at relationships within the data, and then try to fit a machine learning model to predict conversion success of individual campaigns.\n",
    "\n",
    "\n",
    "Link to kaggle challenge:\n",
    "\n",
    "*https://www.kaggle.com/datasets/loveall/clicks-conversion-tracking?resource=download*\n",
    "\n",
    "----"
   ]
  },
  {
   "cell_type": "code",
   "execution_count": 1,
   "id": "db92a8f4",
   "metadata": {},
   "outputs": [],
   "source": [
    "import pandas as pd\n",
    "import numpy as np\n",
    "import seaborn as sns\n",
    "import matplotlib.pyplot as plt"
   ]
  },
  {
   "cell_type": "code",
   "execution_count": 2,
   "id": "e45f9d3d",
   "metadata": {},
   "outputs": [],
   "source": [
    "data = pd.read_csv('data/KAG_conversion_data.csv')"
   ]
  },
  {
   "cell_type": "code",
   "execution_count": 3,
   "id": "7d5d5b55",
   "metadata": {},
   "outputs": [
    {
     "data": {
      "text/plain": [
       "(1143, 11)"
      ]
     },
     "execution_count": 3,
     "metadata": {},
     "output_type": "execute_result"
    }
   ],
   "source": [
    "data.shape"
   ]
  },
  {
   "cell_type": "markdown",
   "id": "0a1b54d5",
   "metadata": {},
   "source": [
    "## 1. Data Cleaning"
   ]
  },
  {
   "cell_type": "code",
   "execution_count": 4,
   "id": "55e741d4",
   "metadata": {},
   "outputs": [],
   "source": [
    "## dropping unnecessary columns\n",
    "data.drop(\"fb_campaign_id\", axis=1, inplace=True)"
   ]
  },
  {
   "cell_type": "markdown",
   "id": "ff1742c2",
   "metadata": {},
   "source": [
    "### 2.1 Missing Values"
   ]
  },
  {
   "cell_type": "code",
   "execution_count": 5,
   "id": "e7d6cb66",
   "metadata": {},
   "outputs": [
    {
     "data": {
      "text/plain": [
       "ad_id                  0\n",
       "xyz_campaign_id        0\n",
       "age                    0\n",
       "gender                 0\n",
       "interest               0\n",
       "Impressions            0\n",
       "Clicks                 0\n",
       "Spent                  0\n",
       "Total_Conversion       0\n",
       "Approved_Conversion    0\n",
       "dtype: int64"
      ]
     },
     "execution_count": 5,
     "metadata": {},
     "output_type": "execute_result"
    }
   ],
   "source": [
    "data.isnull().sum()"
   ]
  },
  {
   "cell_type": "markdown",
   "id": "95a2e59f",
   "metadata": {},
   "source": [
    "### 2.2 Duplicates"
   ]
  },
  {
   "cell_type": "code",
   "execution_count": 6,
   "id": "85305281",
   "metadata": {},
   "outputs": [
    {
     "data": {
      "text/plain": [
       "0"
      ]
     },
     "execution_count": 6,
     "metadata": {},
     "output_type": "execute_result"
    }
   ],
   "source": [
    "data.duplicated().sum()"
   ]
  },
  {
   "cell_type": "markdown",
   "id": "1c9e5b0d",
   "metadata": {},
   "source": [
    "### 2.3 Outliers"
   ]
  },
  {
   "cell_type": "code",
   "execution_count": 7,
   "id": "eb8fc9ff",
   "metadata": {},
   "outputs": [
    {
     "data": {
      "text/html": [
       "<div>\n",
       "<style scoped>\n",
       "    .dataframe tbody tr th:only-of-type {\n",
       "        vertical-align: middle;\n",
       "    }\n",
       "\n",
       "    .dataframe tbody tr th {\n",
       "        vertical-align: top;\n",
       "    }\n",
       "\n",
       "    .dataframe thead th {\n",
       "        text-align: right;\n",
       "    }\n",
       "</style>\n",
       "<table border=\"1\" class=\"dataframe\">\n",
       "  <thead>\n",
       "    <tr style=\"text-align: right;\">\n",
       "      <th></th>\n",
       "      <th>ad_id</th>\n",
       "      <th>xyz_campaign_id</th>\n",
       "      <th>age</th>\n",
       "      <th>gender</th>\n",
       "      <th>interest</th>\n",
       "      <th>Impressions</th>\n",
       "      <th>Clicks</th>\n",
       "      <th>Spent</th>\n",
       "      <th>Total_Conversion</th>\n",
       "      <th>Approved_Conversion</th>\n",
       "    </tr>\n",
       "  </thead>\n",
       "  <tbody>\n",
       "    <tr>\n",
       "      <th>0</th>\n",
       "      <td>708746</td>\n",
       "      <td>916</td>\n",
       "      <td>30-34</td>\n",
       "      <td>M</td>\n",
       "      <td>15</td>\n",
       "      <td>7350</td>\n",
       "      <td>1</td>\n",
       "      <td>1.43</td>\n",
       "      <td>2</td>\n",
       "      <td>1</td>\n",
       "    </tr>\n",
       "    <tr>\n",
       "      <th>1</th>\n",
       "      <td>708749</td>\n",
       "      <td>916</td>\n",
       "      <td>30-34</td>\n",
       "      <td>M</td>\n",
       "      <td>16</td>\n",
       "      <td>17861</td>\n",
       "      <td>2</td>\n",
       "      <td>1.82</td>\n",
       "      <td>2</td>\n",
       "      <td>0</td>\n",
       "    </tr>\n",
       "  </tbody>\n",
       "</table>\n",
       "</div>"
      ],
      "text/plain": [
       "    ad_id  xyz_campaign_id    age gender  interest  Impressions  Clicks  \\\n",
       "0  708746              916  30-34      M        15         7350       1   \n",
       "1  708749              916  30-34      M        16        17861       2   \n",
       "\n",
       "   Spent  Total_Conversion  Approved_Conversion  \n",
       "0   1.43                 2                    1  \n",
       "1   1.82                 2                    0  "
      ]
     },
     "execution_count": 7,
     "metadata": {},
     "output_type": "execute_result"
    }
   ],
   "source": [
    "data.head(2)"
   ]
  },
  {
   "cell_type": "code",
   "execution_count": 8,
   "id": "b308524b",
   "metadata": {},
   "outputs": [
    {
     "data": {
      "image/png": "[encoded data removed]",
      "text/plain": [
       "<Figure size 1080x288 with 1 Axes>"
      ]
     },
     "metadata": {
      "needs_background": "light"
     },
     "output_type": "display_data"
    }
   ],
   "source": [
    "## checking for outliers in 'interst'\n",
    "plt.figure(figsize=(15,4))\n",
    "data.interest.value_counts().plot(kind=\"bar\")\n",
    "plt.title(\"Amount of Ads per Interest Group\", size=15);"
   ]
  },
  {
   "cell_type": "code",
   "execution_count": 9,
   "id": "4bf7c207",
   "metadata": {},
   "outputs": [
    {
     "data": {
      "image/png": "[encoded data removed]",
      "text/plain": [
       "<Figure size 1080x288 with 1 Axes>"
      ]
     },
     "metadata": {
      "needs_background": "light"
     },
     "output_type": "display_data"
    }
   ],
   "source": [
    "## checking for outliers in Impressions\n",
    "plt.figure(figsize=(15,4))\n",
    "sns.boxplot(x=data.Impressions)\n",
    "plt.title(\"Distribution of Impressions\", size=15);"
   ]
  },
  {
   "cell_type": "code",
   "execution_count": 10,
   "id": "545edb0b",
   "metadata": {},
   "outputs": [
    {
     "data": {
      "text/html": [
       "<div>\n",
       "<style scoped>\n",
       "    .dataframe tbody tr th:only-of-type {\n",
       "        vertical-align: middle;\n",
       "    }\n",
       "\n",
       "    .dataframe tbody tr th {\n",
       "        vertical-align: top;\n",
       "    }\n",
       "\n",
       "    .dataframe thead th {\n",
       "        text-align: right;\n",
       "    }\n",
       "</style>\n",
       "<table border=\"1\" class=\"dataframe\">\n",
       "  <thead>\n",
       "    <tr style=\"text-align: right;\">\n",
       "      <th></th>\n",
       "      <th>ad_id</th>\n",
       "      <th>xyz_campaign_id</th>\n",
       "      <th>age</th>\n",
       "      <th>gender</th>\n",
       "      <th>interest</th>\n",
       "      <th>Impressions</th>\n",
       "      <th>Clicks</th>\n",
       "      <th>Spent</th>\n",
       "      <th>Total_Conversion</th>\n",
       "      <th>Approved_Conversion</th>\n",
       "    </tr>\n",
       "  </thead>\n",
       "  <tbody>\n",
       "    <tr>\n",
       "      <th>525</th>\n",
       "      <td>1121100</td>\n",
       "      <td>1178</td>\n",
       "      <td>30-34</td>\n",
       "      <td>M</td>\n",
       "      <td>15</td>\n",
       "      <td>3052003</td>\n",
       "      <td>340</td>\n",
       "      <td>639.949998</td>\n",
       "      <td>60</td>\n",
       "      <td>17</td>\n",
       "    </tr>\n",
       "    <tr>\n",
       "      <th>765</th>\n",
       "      <td>1121601</td>\n",
       "      <td>1178</td>\n",
       "      <td>45-49</td>\n",
       "      <td>M</td>\n",
       "      <td>16</td>\n",
       "      <td>2286228</td>\n",
       "      <td>353</td>\n",
       "      <td>603.380002</td>\n",
       "      <td>16</td>\n",
       "      <td>7</td>\n",
       "    </tr>\n",
       "    <tr>\n",
       "      <th>860</th>\n",
       "      <td>1121814</td>\n",
       "      <td>1178</td>\n",
       "      <td>30-34</td>\n",
       "      <td>F</td>\n",
       "      <td>27</td>\n",
       "      <td>2223278</td>\n",
       "      <td>421</td>\n",
       "      <td>612.300003</td>\n",
       "      <td>38</td>\n",
       "      <td>13</td>\n",
       "    </tr>\n",
       "    <tr>\n",
       "      <th>528</th>\n",
       "      <td>1121104</td>\n",
       "      <td>1178</td>\n",
       "      <td>30-34</td>\n",
       "      <td>M</td>\n",
       "      <td>16</td>\n",
       "      <td>2080666</td>\n",
       "      <td>202</td>\n",
       "      <td>360.150001</td>\n",
       "      <td>40</td>\n",
       "      <td>21</td>\n",
       "    </tr>\n",
       "    <tr>\n",
       "      <th>867</th>\n",
       "      <td>1121824</td>\n",
       "      <td>1178</td>\n",
       "      <td>30-34</td>\n",
       "      <td>F</td>\n",
       "      <td>29</td>\n",
       "      <td>1705246</td>\n",
       "      <td>295</td>\n",
       "      <td>429.479998</td>\n",
       "      <td>23</td>\n",
       "      <td>10</td>\n",
       "    </tr>\n",
       "  </tbody>\n",
       "</table>\n",
       "</div>"
      ],
      "text/plain": [
       "       ad_id  xyz_campaign_id    age gender  interest  Impressions  Clicks  \\\n",
       "525  1121100             1178  30-34      M        15      3052003     340   \n",
       "765  1121601             1178  45-49      M        16      2286228     353   \n",
       "860  1121814             1178  30-34      F        27      2223278     421   \n",
       "528  1121104             1178  30-34      M        16      2080666     202   \n",
       "867  1121824             1178  30-34      F        29      1705246     295   \n",
       "\n",
       "          Spent  Total_Conversion  Approved_Conversion  \n",
       "525  639.949998                60                   17  \n",
       "765  603.380002                16                    7  \n",
       "860  612.300003                38                   13  \n",
       "528  360.150001                40                   21  \n",
       "867  429.479998                23                   10  "
      ]
     },
     "execution_count": 10,
     "metadata": {},
     "output_type": "execute_result"
    }
   ],
   "source": [
    "## Inspecting Outliers\n",
    "data.sort_values(by=\"Impressions\", ascending=False)[:5]"
   ]
  },
  {
   "cell_type": "markdown",
   "id": "d25bc0ac",
   "metadata": {},
   "source": [
    "(Outliers are decided to be left in the dataset, as there is no evidence for them being wrong data entries)"
   ]
  },
  {
   "cell_type": "code",
   "execution_count": 11,
   "id": "e26a92ef",
   "metadata": {},
   "outputs": [
    {
     "data": {
      "image/png": "[encoded data removed]",
      "text/plain": [
       "<Figure size 1080x288 with 1 Axes>"
      ]
     },
     "metadata": {
      "needs_background": "light"
     },
     "output_type": "display_data"
    }
   ],
   "source": [
    "## checking for outliers in 'Spent'\n",
    "plt.figure(figsize=(15,4))\n",
    "sns.histplot(x=data.Spent)\n",
    "plt.title(\"Distribution of Ad Spent\", size=15);"
   ]
  },
  {
   "cell_type": "code",
   "execution_count": 12,
   "id": "a3a2ee24",
   "metadata": {},
   "outputs": [
    {
     "data": {
      "text/html": [
       "<div>\n",
       "<style scoped>\n",
       "    .dataframe tbody tr th:only-of-type {\n",
       "        vertical-align: middle;\n",
       "    }\n",
       "\n",
       "    .dataframe tbody tr th {\n",
       "        vertical-align: top;\n",
       "    }\n",
       "\n",
       "    .dataframe thead th {\n",
       "        text-align: right;\n",
       "    }\n",
       "</style>\n",
       "<table border=\"1\" class=\"dataframe\">\n",
       "  <thead>\n",
       "    <tr style=\"text-align: right;\">\n",
       "      <th></th>\n",
       "      <th>ad_id</th>\n",
       "      <th>xyz_campaign_id</th>\n",
       "      <th>age</th>\n",
       "      <th>gender</th>\n",
       "      <th>interest</th>\n",
       "      <th>Impressions</th>\n",
       "      <th>Clicks</th>\n",
       "      <th>Spent</th>\n",
       "      <th>Total_Conversion</th>\n",
       "      <th>Approved_Conversion</th>\n",
       "    </tr>\n",
       "  </thead>\n",
       "  <tbody>\n",
       "    <tr>\n",
       "      <th>525</th>\n",
       "      <td>1121100</td>\n",
       "      <td>1178</td>\n",
       "      <td>30-34</td>\n",
       "      <td>M</td>\n",
       "      <td>15</td>\n",
       "      <td>3052003</td>\n",
       "      <td>340</td>\n",
       "      <td>639.949998</td>\n",
       "      <td>60</td>\n",
       "      <td>17</td>\n",
       "    </tr>\n",
       "    <tr>\n",
       "      <th>860</th>\n",
       "      <td>1121814</td>\n",
       "      <td>1178</td>\n",
       "      <td>30-34</td>\n",
       "      <td>F</td>\n",
       "      <td>27</td>\n",
       "      <td>2223278</td>\n",
       "      <td>421</td>\n",
       "      <td>612.300003</td>\n",
       "      <td>38</td>\n",
       "      <td>13</td>\n",
       "    </tr>\n",
       "    <tr>\n",
       "      <th>765</th>\n",
       "      <td>1121601</td>\n",
       "      <td>1178</td>\n",
       "      <td>45-49</td>\n",
       "      <td>M</td>\n",
       "      <td>16</td>\n",
       "      <td>2286228</td>\n",
       "      <td>353</td>\n",
       "      <td>603.380002</td>\n",
       "      <td>16</td>\n",
       "      <td>7</td>\n",
       "    </tr>\n",
       "    <tr>\n",
       "      <th>1026</th>\n",
       "      <td>1122265</td>\n",
       "      <td>1178</td>\n",
       "      <td>45-49</td>\n",
       "      <td>F</td>\n",
       "      <td>27</td>\n",
       "      <td>1428421</td>\n",
       "      <td>367</td>\n",
       "      <td>541.700002</td>\n",
       "      <td>10</td>\n",
       "      <td>0</td>\n",
       "    </tr>\n",
       "    <tr>\n",
       "      <th>995</th>\n",
       "      <td>1122193</td>\n",
       "      <td>1178</td>\n",
       "      <td>45-49</td>\n",
       "      <td>F</td>\n",
       "      <td>10</td>\n",
       "      <td>1358324</td>\n",
       "      <td>346</td>\n",
       "      <td>465.079998</td>\n",
       "      <td>8</td>\n",
       "      <td>2</td>\n",
       "    </tr>\n",
       "  </tbody>\n",
       "</table>\n",
       "</div>"
      ],
      "text/plain": [
       "        ad_id  xyz_campaign_id    age gender  interest  Impressions  Clicks  \\\n",
       "525   1121100             1178  30-34      M        15      3052003     340   \n",
       "860   1121814             1178  30-34      F        27      2223278     421   \n",
       "765   1121601             1178  45-49      M        16      2286228     353   \n",
       "1026  1122265             1178  45-49      F        27      1428421     367   \n",
       "995   1122193             1178  45-49      F        10      1358324     346   \n",
       "\n",
       "           Spent  Total_Conversion  Approved_Conversion  \n",
       "525   639.949998                60                   17  \n",
       "860   612.300003                38                   13  \n",
       "765   603.380002                16                    7  \n",
       "1026  541.700002                10                    0  \n",
       "995   465.079998                 8                    2  "
      ]
     },
     "execution_count": 12,
     "metadata": {},
     "output_type": "execute_result"
    }
   ],
   "source": [
    "## Inspecting Outliers\n",
    "data.sort_values(by=\"Spent\", ascending=False)[:5]"
   ]
  },
  {
   "cell_type": "markdown",
   "id": "d3edecfa",
   "metadata": {},
   "source": [
    "(Outliers are decided to be left in the dataset, as there is no evidence for them being wrong data entries)"
   ]
  },
  {
   "cell_type": "code",
   "execution_count": 13,
   "id": "1e3f73bb",
   "metadata": {},
   "outputs": [
    {
     "data": {
      "image/png": "[encoded data removed]",
      "text/plain": [
       "<Figure size 1080x288 with 1 Axes>"
      ]
     },
     "metadata": {
      "needs_background": "light"
     },
     "output_type": "display_data"
    }
   ],
   "source": [
    "## checking for outliers in 'Clicks'\n",
    "plt.figure(figsize=(15,4))\n",
    "sns.histplot(x=data.Clicks)\n",
    "plt.title(\"Distribution of Clicks\", size=15);"
   ]
  },
  {
   "cell_type": "code",
   "execution_count": 14,
   "id": "8d975809",
   "metadata": {},
   "outputs": [
    {
     "data": {
      "text/html": [
       "<div>\n",
       "<style scoped>\n",
       "    .dataframe tbody tr th:only-of-type {\n",
       "        vertical-align: middle;\n",
       "    }\n",
       "\n",
       "    .dataframe tbody tr th {\n",
       "        vertical-align: top;\n",
       "    }\n",
       "\n",
       "    .dataframe thead th {\n",
       "        text-align: right;\n",
       "    }\n",
       "</style>\n",
       "<table border=\"1\" class=\"dataframe\">\n",
       "  <thead>\n",
       "    <tr style=\"text-align: right;\">\n",
       "      <th></th>\n",
       "      <th>ad_id</th>\n",
       "      <th>xyz_campaign_id</th>\n",
       "      <th>age</th>\n",
       "      <th>gender</th>\n",
       "      <th>interest</th>\n",
       "      <th>Impressions</th>\n",
       "      <th>Clicks</th>\n",
       "      <th>Spent</th>\n",
       "      <th>Total_Conversion</th>\n",
       "      <th>Approved_Conversion</th>\n",
       "    </tr>\n",
       "  </thead>\n",
       "  <tbody>\n",
       "    <tr>\n",
       "      <th>860</th>\n",
       "      <td>1121814</td>\n",
       "      <td>1178</td>\n",
       "      <td>30-34</td>\n",
       "      <td>F</td>\n",
       "      <td>27</td>\n",
       "      <td>2223278</td>\n",
       "      <td>421</td>\n",
       "      <td>612.300003</td>\n",
       "      <td>38</td>\n",
       "      <td>13</td>\n",
       "    </tr>\n",
       "    <tr>\n",
       "      <th>1026</th>\n",
       "      <td>1122265</td>\n",
       "      <td>1178</td>\n",
       "      <td>45-49</td>\n",
       "      <td>F</td>\n",
       "      <td>27</td>\n",
       "      <td>1428421</td>\n",
       "      <td>367</td>\n",
       "      <td>541.700002</td>\n",
       "      <td>10</td>\n",
       "      <td>0</td>\n",
       "    </tr>\n",
       "    <tr>\n",
       "      <th>765</th>\n",
       "      <td>1121601</td>\n",
       "      <td>1178</td>\n",
       "      <td>45-49</td>\n",
       "      <td>M</td>\n",
       "      <td>16</td>\n",
       "      <td>2286228</td>\n",
       "      <td>353</td>\n",
       "      <td>603.380002</td>\n",
       "      <td>16</td>\n",
       "      <td>7</td>\n",
       "    </tr>\n",
       "    <tr>\n",
       "      <th>995</th>\n",
       "      <td>1122193</td>\n",
       "      <td>1178</td>\n",
       "      <td>45-49</td>\n",
       "      <td>F</td>\n",
       "      <td>10</td>\n",
       "      <td>1358324</td>\n",
       "      <td>346</td>\n",
       "      <td>465.079998</td>\n",
       "      <td>8</td>\n",
       "      <td>2</td>\n",
       "    </tr>\n",
       "    <tr>\n",
       "      <th>525</th>\n",
       "      <td>1121100</td>\n",
       "      <td>1178</td>\n",
       "      <td>30-34</td>\n",
       "      <td>M</td>\n",
       "      <td>15</td>\n",
       "      <td>3052003</td>\n",
       "      <td>340</td>\n",
       "      <td>639.949998</td>\n",
       "      <td>60</td>\n",
       "      <td>17</td>\n",
       "    </tr>\n",
       "  </tbody>\n",
       "</table>\n",
       "</div>"
      ],
      "text/plain": [
       "        ad_id  xyz_campaign_id    age gender  interest  Impressions  Clicks  \\\n",
       "860   1121814             1178  30-34      F        27      2223278     421   \n",
       "1026  1122265             1178  45-49      F        27      1428421     367   \n",
       "765   1121601             1178  45-49      M        16      2286228     353   \n",
       "995   1122193             1178  45-49      F        10      1358324     346   \n",
       "525   1121100             1178  30-34      M        15      3052003     340   \n",
       "\n",
       "           Spent  Total_Conversion  Approved_Conversion  \n",
       "860   612.300003                38                   13  \n",
       "1026  541.700002                10                    0  \n",
       "765   603.380002                16                    7  \n",
       "995   465.079998                 8                    2  \n",
       "525   639.949998                60                   17  "
      ]
     },
     "execution_count": 14,
     "metadata": {},
     "output_type": "execute_result"
    }
   ],
   "source": [
    "## Inspecting Outliers\n",
    "data.sort_values(by=\"Clicks\", ascending=False)[:5]"
   ]
  },
  {
   "cell_type": "code",
   "execution_count": 15,
   "id": "d963f7f1",
   "metadata": {},
   "outputs": [
    {
     "data": {
      "image/png": "[encoded data removed]",
      "text/plain": [
       "<Figure size 1080x288 with 1 Axes>"
      ]
     },
     "metadata": {
      "needs_background": "light"
     },
     "output_type": "display_data"
    }
   ],
   "source": [
    "## checking outliers for conversions\n",
    "plt.figure(figsize=(15,4))\n",
    "sns.boxplot(x=data.Approved_Conversion)\n",
    "plt.title(\"Distribution of Approved Conversions\", size=15);"
   ]
  },
  {
   "cell_type": "markdown",
   "id": "5ff9c260",
   "metadata": {},
   "source": [
    "**Notes:**\n",
    "\n",
    "The distributions for all continuous variables are highly skewed, with some extreme values compared to measures of centrality. The data appears to be real however, and represents actual, real phenomena (such as increases in ad spend correlating with increases in Impressions and Conversions; correlations are examined in the next section). \n",
    "\n",
    "These observations are therefore left in the dataset."
   ]
  },
  {
   "cell_type": "code",
   "execution_count": 16,
   "id": "217f7e4f",
   "metadata": {},
   "outputs": [],
   "source": [
    "## changing values for campaign id\n",
    "data[\"xyz_campaign_id\"].replace({916:\"campaign_a\" ,936:\"campaign_b\" ,1178:\"campaign_c\"}, inplace=True)"
   ]
  },
  {
   "cell_type": "markdown",
   "id": "74120e5c",
   "metadata": {},
   "source": [
    "## 2. Exploraroty Analysis"
   ]
  },
  {
   "cell_type": "markdown",
   "id": "deee4aef",
   "metadata": {},
   "source": [
    "This section is analysing some interesting distributions and trends, such as ..\n",
    "\n",
    "1. How many ads are there per ad - campaign?\n",
    "2. How well do the campaigns perform compared to the others?\n",
    "3. What is the average Ad Spent?\n",
    "4. What is the correlation between Ad Spent, Impressions and Conversions?\n",
    "5. Is there a linear relationship between Ad Spent and Impressions?"
   ]
  },
  {
   "cell_type": "code",
   "execution_count": 17,
   "id": "253d49ba",
   "metadata": {},
   "outputs": [
    {
     "data": {
      "image/png": "[encoded data removed]",
      "text/plain": [
       "<Figure size 720x432 with 1 Axes>"
      ]
     },
     "metadata": {
      "needs_background": "light"
     },
     "output_type": "display_data"
    }
   ],
   "source": [
    "## Assessing number of ads per campaign\n",
    "plt.figure(figsize=(10,6))\n",
    "data.groupby(\"xyz_campaign_id\")[\"ad_id\"].nunique().plot(kind=\"bar\", color=[\"steelblue\", \n",
    "                                                                           \"indianred\", \n",
    "                                                                           \"seagreen\"])\n",
    "plt.xticks(rotation=45)\n",
    "plt.title(\"Number of Ads per Campaign\", size=15)\n",
    "plt.xlabel(\"Campaign\", size=12)\n",
    "plt.ylabel(\"Nr. of Ads\", size=12);"
   ]
  },
  {
   "cell_type": "code",
   "execution_count": 18,
   "id": "108285a1",
   "metadata": {},
   "outputs": [
    {
     "data": {
      "image/png": "[encoded data removed]",
      "text/plain": [
       "<Figure size 720x432 with 1 Axes>"
      ]
     },
     "metadata": {
      "needs_background": "light"
     },
     "output_type": "display_data"
    }
   ],
   "source": [
    "## assessing the relative performance of the campaigns, based on conversion success\n",
    "\n",
    "plt.figure(figsize=(10,6))\n",
    "data.groupby(\"xyz_campaign_id\")[\"Approved_Conversion\"].mean().plot(kind=\"bar\", color=[\"steelblue\", \n",
    "                                                                                      \"indianred\", \n",
    "                                                                                      \"seagreen\"])\n",
    "plt.xticks(rotation=45)\n",
    "plt.title(\"Mean Conversions per Ad Campaign\", size=15)\n",
    "plt.xlabel(\"Campaign\", size=12)\n",
    "plt.ylabel(\"Mean nr. of Conversions\", size=12);"
   ]
  },
  {
   "cell_type": "code",
   "execution_count": 19,
   "id": "e845f2f9",
   "metadata": {},
   "outputs": [
    {
     "name": "stdout",
     "output_type": "stream",
     "text": [
      "\n",
      "Average amount (median, due to skew) spent per ad: \u001b[1m12.37\u001b[0m\n",
      "\n"
     ]
    }
   ],
   "source": [
    "avg = round(data.Spent.median(),2)\n",
    "\n",
    "print()\n",
    "print(f'Average amount (median, due to skew) spent per ad: \\033[1m{avg}\\033[0m')\n",
    "print()"
   ]
  },
  {
   "cell_type": "code",
   "execution_count": 20,
   "id": "ce754060",
   "metadata": {},
   "outputs": [
    {
     "data": {
      "text/plain": [
       "<AxesSubplot:>"
      ]
     },
     "execution_count": 20,
     "metadata": {},
     "output_type": "execute_result"
    },
    {
     "data": {
      "image/png": "[encoded data removed]",
      "text/plain": [
       "<Figure size 720x504 with 2 Axes>"
      ]
     },
     "metadata": {
      "needs_background": "light"
     },
     "output_type": "display_data"
    }
   ],
   "source": [
    "## assessing the relationship between Ad Spent, nr. of Impressions and Conversions\n",
    "tmp = data[[\"Spent\", \"Impressions\", \"Total_Conversion\", \"Approved_Conversion\"]].corr()\n",
    "\n",
    "plt.figure(figsize=(10,7))\n",
    "sns.heatmap(tmp, annot=True)"
   ]
  },
  {
   "cell_type": "markdown",
   "id": "41eed15e",
   "metadata": {},
   "source": [
    "**Notes:**\n",
    "\n",
    "There is a very clear relationship between Ad Spent and Impressions, as well as with Conversions."
   ]
  },
  {
   "cell_type": "code",
   "execution_count": 21,
   "id": "e38133b5",
   "metadata": {},
   "outputs": [
    {
     "data": {
      "image/png": "[encoded data removed]",
      "text/plain": [
       "<Figure size 720x504 with 1 Axes>"
      ]
     },
     "metadata": {
      "needs_background": "light"
     },
     "output_type": "display_data"
    }
   ],
   "source": [
    "## Is there a relationship between Ad Spend and Conversion?\n",
    "plt.figure(figsize=(10,7))\n",
    "\n",
    "sns.regplot(x = \"Impressions\",\n",
    "            y= \"Spent\",\n",
    "           data= data)\n",
    "\n",
    "plt.title(\"Linear Regression Model on Impressions x Ad Spent\", size= 15)\n",
    "plt.xlabel(\"Impressions\", size=12)\n",
    "plt.ylabel(\"Spent\", size=12);"
   ]
  },
  {
   "cell_type": "markdown",
   "id": "00c83b9e",
   "metadata": {},
   "source": [
    "## 3. Feature Engineering"
   ]
  },
  {
   "cell_type": "markdown",
   "id": "b95a840f",
   "metadata": {},
   "source": [
    "Calculating *Click-Through-Rate* and *Cost per Click* as additional features for our model.\n",
    "\n",
    "To prevent data leakage (i.e. having the target values be represented in training features),\n",
    "we will abstain from calculating *Conversion Rate* and *Cost per Conversion*."
   ]
  },
  {
   "cell_type": "code",
   "execution_count": 22,
   "id": "dbcb5165",
   "metadata": {},
   "outputs": [],
   "source": [
    "## calculating click-through-rate\n",
    "data[\"CTR (%)\"] = (data[\"Clicks\"] / data[\"Impressions\"]) * 100"
   ]
  },
  {
   "cell_type": "code",
   "execution_count": 23,
   "id": "aad8432d",
   "metadata": {},
   "outputs": [],
   "source": [
    "## calculating Cost per Click\n",
    "mask = (data[\"Clicks\"] != 0)\n",
    "data_valid = data[mask]\n",
    "\n",
    "data[\"CpC\"] = 0\n",
    "\n",
    "data.loc[mask, \"CpC\"] = data[\"Clicks\"] / data[\"Spent\"]"
   ]
  },
  {
   "cell_type": "code",
   "execution_count": 24,
   "id": "25de68e7",
   "metadata": {},
   "outputs": [
    {
     "data": {
      "text/html": [
       "<div>\n",
       "<style scoped>\n",
       "    .dataframe tbody tr th:only-of-type {\n",
       "        vertical-align: middle;\n",
       "    }\n",
       "\n",
       "    .dataframe tbody tr th {\n",
       "        vertical-align: top;\n",
       "    }\n",
       "\n",
       "    .dataframe thead th {\n",
       "        text-align: right;\n",
       "    }\n",
       "</style>\n",
       "<table border=\"1\" class=\"dataframe\">\n",
       "  <thead>\n",
       "    <tr style=\"text-align: right;\">\n",
       "      <th></th>\n",
       "      <th>ad_id</th>\n",
       "      <th>xyz_campaign_id</th>\n",
       "      <th>age</th>\n",
       "      <th>gender</th>\n",
       "      <th>interest</th>\n",
       "      <th>Impressions</th>\n",
       "      <th>Clicks</th>\n",
       "      <th>Spent</th>\n",
       "      <th>Total_Conversion</th>\n",
       "      <th>Approved_Conversion</th>\n",
       "      <th>CTR (%)</th>\n",
       "      <th>CpC</th>\n",
       "    </tr>\n",
       "  </thead>\n",
       "  <tbody>\n",
       "    <tr>\n",
       "      <th>0</th>\n",
       "      <td>708746</td>\n",
       "      <td>campaign_a</td>\n",
       "      <td>30-34</td>\n",
       "      <td>M</td>\n",
       "      <td>15</td>\n",
       "      <td>7350</td>\n",
       "      <td>1</td>\n",
       "      <td>1.43</td>\n",
       "      <td>2</td>\n",
       "      <td>1</td>\n",
       "      <td>0.013605</td>\n",
       "      <td>0.699301</td>\n",
       "    </tr>\n",
       "    <tr>\n",
       "      <th>1</th>\n",
       "      <td>708749</td>\n",
       "      <td>campaign_a</td>\n",
       "      <td>30-34</td>\n",
       "      <td>M</td>\n",
       "      <td>16</td>\n",
       "      <td>17861</td>\n",
       "      <td>2</td>\n",
       "      <td>1.82</td>\n",
       "      <td>2</td>\n",
       "      <td>0</td>\n",
       "      <td>0.011198</td>\n",
       "      <td>1.098901</td>\n",
       "    </tr>\n",
       "    <tr>\n",
       "      <th>2</th>\n",
       "      <td>708771</td>\n",
       "      <td>campaign_a</td>\n",
       "      <td>30-34</td>\n",
       "      <td>M</td>\n",
       "      <td>20</td>\n",
       "      <td>693</td>\n",
       "      <td>0</td>\n",
       "      <td>0.00</td>\n",
       "      <td>1</td>\n",
       "      <td>0</td>\n",
       "      <td>0.000000</td>\n",
       "      <td>0.000000</td>\n",
       "    </tr>\n",
       "  </tbody>\n",
       "</table>\n",
       "</div>"
      ],
      "text/plain": [
       "    ad_id xyz_campaign_id    age gender  interest  Impressions  Clicks  Spent  \\\n",
       "0  708746      campaign_a  30-34      M        15         7350       1   1.43   \n",
       "1  708749      campaign_a  30-34      M        16        17861       2   1.82   \n",
       "2  708771      campaign_a  30-34      M        20          693       0   0.00   \n",
       "\n",
       "   Total_Conversion  Approved_Conversion   CTR (%)       CpC  \n",
       "0                 2                    1  0.013605  0.699301  \n",
       "1                 2                    0  0.011198  1.098901  \n",
       "2                 1                    0  0.000000  0.000000  "
      ]
     },
     "execution_count": 24,
     "metadata": {},
     "output_type": "execute_result"
    }
   ],
   "source": [
    "data.head(3)"
   ]
  },
  {
   "cell_type": "markdown",
   "id": "7ec0105b",
   "metadata": {},
   "source": [
    "## 4. Data Preprocessing"
   ]
  },
  {
   "cell_type": "code",
   "execution_count": 25,
   "id": "ef52136d",
   "metadata": {},
   "outputs": [],
   "source": [
    "from sklearn.preprocessing import LabelEncoder, MinMaxScaler"
   ]
  },
  {
   "cell_type": "code",
   "execution_count": 26,
   "id": "fb0d5f7c",
   "metadata": {},
   "outputs": [],
   "source": [
    "## making a separate but identical dataframe to preprocess, in order to preserve the original data\n",
    "processed_data = data.copy()"
   ]
  },
  {
   "cell_type": "code",
   "execution_count": 27,
   "id": "26446043",
   "metadata": {},
   "outputs": [
    {
     "name": "stdout",
     "output_type": "stream",
     "text": [
      "xyz_campaign_id 3\n",
      "interest 40\n",
      "age 4\n",
      "gender 2\n"
     ]
    }
   ],
   "source": [
    "## encoding all categorical features in the dataset\n",
    "encoder = LabelEncoder()\n",
    "\n",
    "for col in [\"xyz_campaign_id\", \"interest\", \"age\", \"gender\"]:\n",
    "    \n",
    "    encoder.fit(processed_data[col])\n",
    "    \n",
    "    processed_data[col] = encoder.transform(processed_data[col])\n",
    "    \n",
    "    print(col, processed_data[col].nunique())"
   ]
  },
  {
   "cell_type": "code",
   "execution_count": 28,
   "id": "af63d053",
   "metadata": {},
   "outputs": [],
   "source": [
    "## scaling all continuous features of the dataset\n",
    "scaler = MinMaxScaler()\n",
    "\n",
    "for col in [\"Impressions\", \"Spent\", \"Clicks\", \"CTR (%)\", \"CpC\"]:\n",
    "    \n",
    "    scaler.fit(processed_data[[col]])\n",
    "    \n",
    "    processed_data[col] = scaler.transform(processed_data[[col]])"
   ]
  },
  {
   "cell_type": "code",
   "execution_count": 29,
   "id": "9b00e260",
   "metadata": {},
   "outputs": [
    {
     "data": {
      "text/html": [
       "<div>\n",
       "<style scoped>\n",
       "    .dataframe tbody tr th:only-of-type {\n",
       "        vertical-align: middle;\n",
       "    }\n",
       "\n",
       "    .dataframe tbody tr th {\n",
       "        vertical-align: top;\n",
       "    }\n",
       "\n",
       "    .dataframe thead th {\n",
       "        text-align: right;\n",
       "    }\n",
       "</style>\n",
       "<table border=\"1\" class=\"dataframe\">\n",
       "  <thead>\n",
       "    <tr style=\"text-align: right;\">\n",
       "      <th></th>\n",
       "      <th>ad_id</th>\n",
       "      <th>xyz_campaign_id</th>\n",
       "      <th>age</th>\n",
       "      <th>gender</th>\n",
       "      <th>interest</th>\n",
       "      <th>Impressions</th>\n",
       "      <th>Clicks</th>\n",
       "      <th>Spent</th>\n",
       "      <th>Total_Conversion</th>\n",
       "      <th>Approved_Conversion</th>\n",
       "      <th>CTR (%)</th>\n",
       "      <th>CpC</th>\n",
       "    </tr>\n",
       "  </thead>\n",
       "  <tbody>\n",
       "    <tr>\n",
       "      <th>0</th>\n",
       "      <td>708746</td>\n",
       "      <td>0</td>\n",
       "      <td>0</td>\n",
       "      <td>1</td>\n",
       "      <td>3</td>\n",
       "      <td>0.002380</td>\n",
       "      <td>0.002375</td>\n",
       "      <td>0.002235</td>\n",
       "      <td>2</td>\n",
       "      <td>1</td>\n",
       "      <td>0.128435</td>\n",
       "      <td>0.125874</td>\n",
       "    </tr>\n",
       "    <tr>\n",
       "      <th>1</th>\n",
       "      <td>708749</td>\n",
       "      <td>0</td>\n",
       "      <td>0</td>\n",
       "      <td>1</td>\n",
       "      <td>4</td>\n",
       "      <td>0.005824</td>\n",
       "      <td>0.004751</td>\n",
       "      <td>0.002844</td>\n",
       "      <td>2</td>\n",
       "      <td>0</td>\n",
       "      <td>0.105705</td>\n",
       "      <td>0.197802</td>\n",
       "    </tr>\n",
       "    <tr>\n",
       "      <th>2</th>\n",
       "      <td>708771</td>\n",
       "      <td>0</td>\n",
       "      <td>0</td>\n",
       "      <td>1</td>\n",
       "      <td>7</td>\n",
       "      <td>0.000199</td>\n",
       "      <td>0.000000</td>\n",
       "      <td>0.000000</td>\n",
       "      <td>1</td>\n",
       "      <td>0</td>\n",
       "      <td>0.000000</td>\n",
       "      <td>0.000000</td>\n",
       "    </tr>\n",
       "  </tbody>\n",
       "</table>\n",
       "</div>"
      ],
      "text/plain": [
       "    ad_id  xyz_campaign_id  age  gender  interest  Impressions    Clicks  \\\n",
       "0  708746                0    0       1         3     0.002380  0.002375   \n",
       "1  708749                0    0       1         4     0.005824  0.004751   \n",
       "2  708771                0    0       1         7     0.000199  0.000000   \n",
       "\n",
       "      Spent  Total_Conversion  Approved_Conversion   CTR (%)       CpC  \n",
       "0  0.002235                 2                    1  0.128435  0.125874  \n",
       "1  0.002844                 2                    0  0.105705  0.197802  \n",
       "2  0.000000                 1                    0  0.000000  0.000000  "
      ]
     },
     "execution_count": 29,
     "metadata": {},
     "output_type": "execute_result"
    }
   ],
   "source": [
    "processed_data.head(3)"
   ]
  },
  {
   "cell_type": "markdown",
   "id": "785d284e",
   "metadata": {},
   "source": [
    "## 5. Modeling"
   ]
  },
  {
   "cell_type": "code",
   "execution_count": 30,
   "id": "2c460d52",
   "metadata": {},
   "outputs": [],
   "source": [
    "from sklearn.cluster import KMeans\n",
    "from sklearn.ensemble import RandomForestRegressor\n",
    "from sklearn.model_selection import train_test_split, cross_validate"
   ]
  },
  {
   "cell_type": "markdown",
   "id": "d9387917",
   "metadata": {},
   "source": [
    "---"
   ]
  },
  {
   "cell_type": "markdown",
   "id": "331a3dbe",
   "metadata": {},
   "source": [
    "**Test whether presence of cluster significantly impacts regression performance**"
   ]
  },
  {
   "cell_type": "code",
   "execution_count": 31,
   "id": "dae01f45",
   "metadata": {},
   "outputs": [],
   "source": [
    "## Clustering ad campaigns to create a further feature\n",
    "km = KMeans(n_clusters= 5)\n",
    "\n",
    "km.fit(processed_data.drop([\"Total_Conversion\", \"Approved_Conversion\"], axis= 1))\n",
    "\n",
    "processed_data[\"Cluster\"] = km.labels_"
   ]
  },
  {
   "cell_type": "markdown",
   "id": "6421e28b",
   "metadata": {},
   "source": [
    "----"
   ]
  },
  {
   "cell_type": "code",
   "execution_count": 32,
   "id": "d9ae7f35",
   "metadata": {},
   "outputs": [
    {
     "data": {
      "text/html": [
       "<style>#sk-container-id-1 {color: black;background-color: white;}#sk-container-id-1 pre{padding: 0;}#sk-container-id-1 div.sk-toggleable {background-color: white;}#sk-container-id-1 label.sk-toggleable__label {cursor: pointer;display: block;width: 100%;margin-bottom: 0;padding: 0.3em;box-sizing: border-box;text-align: center;}#sk-container-id-1 label.sk-toggleable__label-arrow:before {content: \"▸\";float: left;margin-right: 0.25em;color: #696969;}#sk-container-id-1 label.sk-toggleable__label-arrow:hover:before {color: black;}#sk-container-id-1 div.sk-estimator:hover label.sk-toggleable__label-arrow:before {color: black;}#sk-container-id-1 div.sk-toggleable__content {max-height: 0;max-width: 0;overflow: hidden;text-align: left;background-color: #f0f8ff;}#sk-container-id-1 div.sk-toggleable__content pre {margin: 0.2em;color: black;border-radius: 0.25em;background-color: #f0f8ff;}#sk-container-id-1 input.sk-toggleable__control:checked~div.sk-toggleable__content {max-height: 200px;max-width: 100%;overflow: auto;}#sk-container-id-1 input.sk-toggleable__control:checked~label.sk-toggleable__label-arrow:before {content: \"▾\";}#sk-container-id-1 div.sk-estimator input.sk-toggleable__control:checked~label.sk-toggleable__label {background-color: #d4ebff;}#sk-container-id-1 div.sk-label input.sk-toggleable__control:checked~label.sk-toggleable__label {background-color: #d4ebff;}#sk-container-id-1 input.sk-hidden--visually {border: 0;clip: rect(1px 1px 1px 1px);clip: rect(1px, 1px, 1px, 1px);height: 1px;margin: -1px;overflow: hidden;padding: 0;position: absolute;width: 1px;}#sk-container-id-1 div.sk-estimator {font-family: monospace;background-color: #f0f8ff;border: 1px dotted black;border-radius: 0.25em;box-sizing: border-box;margin-bottom: 0.5em;}#sk-container-id-1 div.sk-estimator:hover {background-color: #d4ebff;}#sk-container-id-1 div.sk-parallel-item::after {content: \"\";width: 100%;border-bottom: 1px solid gray;flex-grow: 1;}#sk-container-id-1 div.sk-label:hover label.sk-toggleable__label {background-color: #d4ebff;}#sk-container-id-1 div.sk-serial::before {content: \"\";position: absolute;border-left: 1px solid gray;box-sizing: border-box;top: 0;bottom: 0;left: 50%;z-index: 0;}#sk-container-id-1 div.sk-serial {display: flex;flex-direction: column;align-items: center;background-color: white;padding-right: 0.2em;padding-left: 0.2em;position: relative;}#sk-container-id-1 div.sk-item {position: relative;z-index: 1;}#sk-container-id-1 div.sk-parallel {display: flex;align-items: stretch;justify-content: center;background-color: white;position: relative;}#sk-container-id-1 div.sk-item::before, #sk-container-id-1 div.sk-parallel-item::before {content: \"\";position: absolute;border-left: 1px solid gray;box-sizing: border-box;top: 0;bottom: 0;left: 50%;z-index: -1;}#sk-container-id-1 div.sk-parallel-item {display: flex;flex-direction: column;z-index: 1;position: relative;background-color: white;}#sk-container-id-1 div.sk-parallel-item:first-child::after {align-self: flex-end;width: 50%;}#sk-container-id-1 div.sk-parallel-item:last-child::after {align-self: flex-start;width: 50%;}#sk-container-id-1 div.sk-parallel-item:only-child::after {width: 0;}#sk-container-id-1 div.sk-dashed-wrapped {border: 1px dashed gray;margin: 0 0.4em 0.5em 0.4em;box-sizing: border-box;padding-bottom: 0.4em;background-color: white;}#sk-container-id-1 div.sk-label label {font-family: monospace;font-weight: bold;display: inline-block;line-height: 1.2em;}#sk-container-id-1 div.sk-label-container {text-align: center;}#sk-container-id-1 div.sk-container {/* jupyter's `normalize.less` sets `[hidden] { display: none; }` but bootstrap.min.css set `[hidden] { display: none !important; }` so we also need the `!important` here to be able to override the default hidden behavior on the sphinx rendered scikit-learn.org. See: https://github.com/scikit-learn/scikit-learn/issues/21755 */display: inline-block !important;position: relative;}#sk-container-id-1 div.sk-text-repr-fallback {display: none;}</style><div id=\"sk-container-id-1\" class=\"sk-top-container\"><div class=\"sk-text-repr-fallback\"><pre>RandomForestRegressor()</pre><b>In a Jupyter environment, please rerun this cell to show the HTML representation or trust the notebook. <br />On GitHub, the HTML representation is unable to render, please try loading this page with nbviewer.org.</b></div><div class=\"sk-container\" hidden><div class=\"sk-item\"><div class=\"sk-estimator sk-toggleable\"><input class=\"sk-toggleable__control sk-hidden--visually\" id=\"sk-estimator-id-1\" type=\"checkbox\" checked><label for=\"sk-estimator-id-1\" class=\"sk-toggleable__label sk-toggleable__label-arrow\">RandomForestRegressor</label><div class=\"sk-toggleable__content\"><pre>RandomForestRegressor()</pre></div></div></div></div></div>"
      ],
      "text/plain": [
       "RandomForestRegressor()"
      ]
     },
     "execution_count": 32,
     "metadata": {},
     "output_type": "execute_result"
    }
   ],
   "source": [
    "forest = RandomForestRegressor(n_estimators= 100)\n",
    "\n",
    "X = processed_data.drop([\"ad_id\",\"Approved_Conversion\", \"Total_Conversion\"], axis= 1)\n",
    "y = processed_data[\"Approved_Conversion\"]\n",
    "\n",
    "X_train, X_test, y_train, y_test = train_test_split(X, y, \n",
    "                                                   test_size= 0.33)\n",
    "\n",
    "forest.fit(X_train, y_train)"
   ]
  },
  {
   "cell_type": "code",
   "execution_count": 33,
   "id": "d845dfd1",
   "metadata": {},
   "outputs": [
    {
     "data": {
      "text/plain": [
       "0.4632680043700895"
      ]
     },
     "execution_count": 33,
     "metadata": {},
     "output_type": "execute_result"
    }
   ],
   "source": [
    "forest.score(X_test, y_test)"
   ]
  },
  {
   "cell_type": "code",
   "execution_count": 34,
   "id": "118ef36d",
   "metadata": {},
   "outputs": [
    {
     "data": {
      "text/plain": [
       "-1.9284307500191527"
      ]
     },
     "execution_count": 34,
     "metadata": {},
     "output_type": "execute_result"
    }
   ],
   "source": [
    "## cross validating the results\n",
    "\n",
    "model = RandomForestRegressor()\n",
    "\n",
    "X = processed_data.drop([\"Total_Conversion\", \"Approved_Conversion\"], axis=1)\n",
    "y = processed_data[\"Approved_Conversion\"]\n",
    "\n",
    "cv_result = cross_validate(model, \n",
    "                          X,\n",
    "                          y,\n",
    "                          cv= 5,\n",
    "                          scoring= [\"r2\", \"neg_mean_squared_error\"])\n",
    "\n",
    "cv_result[\"test_neg_mean_squared_error\"].mean()"
   ]
  },
  {
   "cell_type": "code",
   "execution_count": 38,
   "id": "e7f8fa73",
   "metadata": {},
   "outputs": [
    {
     "data": {
      "text/plain": [
       "{'fit_time': array([0.00524211, 0.00567913, 0.00507998, 0.00516891, 0.00451207]),\n",
       " 'score_time': array([0.00107193, 0.00114202, 0.00115705, 0.00082898, 0.00092912]),\n",
       " 'test_score': array([-1.08897409, -1.3697545 ,  0.37491462, -0.37210941, -1.04912309])}"
      ]
     },
     "execution_count": 38,
     "metadata": {},
     "output_type": "execute_result"
    }
   ],
   "source": [
    "cv_result"
   ]
  },
  {
   "cell_type": "code",
   "execution_count": 51,
   "id": "f05f0641",
   "metadata": {},
   "outputs": [
    {
     "data": {
      "text/html": [
       "<div>\n",
       "<style scoped>\n",
       "    .dataframe tbody tr th:only-of-type {\n",
       "        vertical-align: middle;\n",
       "    }\n",
       "\n",
       "    .dataframe tbody tr th {\n",
       "        vertical-align: top;\n",
       "    }\n",
       "\n",
       "    .dataframe thead th {\n",
       "        text-align: right;\n",
       "    }\n",
       "</style>\n",
       "<table border=\"1\" class=\"dataframe\">\n",
       "  <thead>\n",
       "    <tr style=\"text-align: right;\">\n",
       "      <th></th>\n",
       "      <th>Name</th>\n",
       "      <th>r2</th>\n",
       "    </tr>\n",
       "  </thead>\n",
       "  <tbody>\n",
       "    <tr>\n",
       "      <th>0</th>\n",
       "      <td>DecisionTreeRegressor()</td>\n",
       "      <td>-0.686857</td>\n",
       "    </tr>\n",
       "    <tr>\n",
       "      <th>1</th>\n",
       "      <td>LinearRegression()</td>\n",
       "      <td>-2.003499</td>\n",
       "    </tr>\n",
       "    <tr>\n",
       "      <th>2</th>\n",
       "      <td>KNeighborsRegressor()</td>\n",
       "      <td>-0.080690</td>\n",
       "    </tr>\n",
       "    <tr>\n",
       "      <th>3</th>\n",
       "      <td>Ridge()</td>\n",
       "      <td>0.024431</td>\n",
       "    </tr>\n",
       "  </tbody>\n",
       "</table>\n",
       "</div>"
      ],
      "text/plain": [
       "                      Name        r2\n",
       "0  DecisionTreeRegressor() -0.686857\n",
       "1       LinearRegression() -2.003499\n",
       "2    KNeighborsRegressor() -0.080690\n",
       "3                  Ridge()  0.024431"
      ]
     },
     "execution_count": 51,
     "metadata": {},
     "output_type": "execute_result"
    }
   ],
   "source": [
    "## comparing regressors\n",
    "from sklearn.linear_model import LinearRegression, Ridge\n",
    "from sklearn.tree import DecisionTreeRegressor\n",
    "from sklearn.neighbors import KNeighborsRegressor\n",
    "\n",
    "regressors = [DecisionTreeRegressor(), LinearRegression(), KNeighborsRegressor(), Ridge()]\n",
    "\n",
    "X = processed_data.drop([\"Total_Conversion\", \"Approved_Conversion\"], axis=1)\n",
    "y = processed_data[\"Approved_Conversion\"]\n",
    "\n",
    "comp_reg = []\n",
    "\n",
    "for reg in regressors:\n",
    "    \n",
    "    model = reg\n",
    "    \n",
    "    cv_result = cross_validate(reg, X, y, cv= 5, scoring=[\"r2\"])\n",
    "    \n",
    "    r2 = cv_result[\"test_r2\"].mean()\n",
    "    \n",
    "    stats = {\"Name\": str(reg),\n",
    "            \"r2\": r2}\n",
    "    \n",
    "    comp_reg.append(stats)\n",
    "    \n",
    "results_df = pd.DataFrame(comp_reg)\n",
    "results_df"
   ]
  },
  {
   "cell_type": "code",
   "execution_count": 47,
   "id": "e995944d",
   "metadata": {},
   "outputs": [
    {
     "data": {
      "text/html": [
       "<div>\n",
       "<style scoped>\n",
       "    .dataframe tbody tr th:only-of-type {\n",
       "        vertical-align: middle;\n",
       "    }\n",
       "\n",
       "    .dataframe tbody tr th {\n",
       "        vertical-align: top;\n",
       "    }\n",
       "\n",
       "    .dataframe thead th {\n",
       "        text-align: right;\n",
       "    }\n",
       "</style>\n",
       "<table border=\"1\" class=\"dataframe\">\n",
       "  <thead>\n",
       "    <tr style=\"text-align: right;\">\n",
       "      <th></th>\n",
       "      <th>Name</th>\n",
       "      <th>r2</th>\n",
       "    </tr>\n",
       "  </thead>\n",
       "  <tbody>\n",
       "  </tbody>\n",
       "</table>\n",
       "</div>"
      ],
      "text/plain": [
       "Empty DataFrame\n",
       "Columns: [Name, r2]\n",
       "Index: []"
      ]
     },
     "execution_count": 47,
     "metadata": {},
     "output_type": "execute_result"
    }
   ],
   "source": [
    "comp_regressors"
   ]
  },
  {
   "cell_type": "markdown",
   "id": "1c9adde9",
   "metadata": {},
   "source": [
    "## 6. Evaluation"
   ]
  },
  {
   "cell_type": "code",
   "execution_count": null,
   "id": "92604c64",
   "metadata": {},
   "outputs": [],
   "source": [
    "from sklearn.metrics import mean_squared_error"
   ]
  },
  {
   "cell_type": "code",
   "execution_count": null,
   "id": "a66daa81",
   "metadata": {},
   "outputs": [],
   "source": [
    "y_pred = forest.predict(X_test)"
   ]
  },
  {
   "cell_type": "code",
   "execution_count": null,
   "id": "e0c4d713",
   "metadata": {},
   "outputs": [],
   "source": [
    "mse = mean_squared_error(y_test, y_pred)"
   ]
  },
  {
   "cell_type": "code",
   "execution_count": null,
   "id": "9ca52d7e",
   "metadata": {},
   "outputs": [],
   "source": [
    "mse"
   ]
  },
  {
   "cell_type": "markdown",
   "id": "037f3514",
   "metadata": {},
   "source": [
    "## Bonus Section: Building a ML - Pipeline"
   ]
  },
  {
   "cell_type": "code",
   "execution_count": null,
   "id": "da73dcb7",
   "metadata": {},
   "outputs": [],
   "source": []
  },
  {
   "cell_type": "markdown",
   "id": "6028c11e",
   "metadata": {},
   "source": [
    "# Sandbox"
   ]
  },
  {
   "cell_type": "markdown",
   "id": "4fb88971",
   "metadata": {},
   "source": [
    "### Open Questions:\n",
    "\n",
    "1. Optimal Number of Clusters? Does Clustering as Feature Engineering even make Sense here?\n",
    "2. What is the right algorithm here?\n",
    "3. Domain knowledge: does it even make sense to run a regression here?\n",
    "4. Preprocessing: does it make sense to scale y?\n",
    "5. What are loss metrics again?"
   ]
  },
  {
   "cell_type": "markdown",
   "id": "246b4d58",
   "metadata": {},
   "source": [
    "**Idea: create synthetic data by choosing random values from probability distributions found in real data**"
   ]
  },
  {
   "cell_type": "code",
   "execution_count": null,
   "id": "dfda9643",
   "metadata": {},
   "outputs": [],
   "source": []
  }
 ],
 "metadata": {
  "kernelspec": {
   "display_name": "Python 3 (ipykernel)",
   "language": "python",
   "name": "python3"
  },
  "language_info": {
   "codemirror_mode": {
    "name": "ipython",
    "version": 3
   },
   "file_extension": ".py",
   "mimetype": "text/x-python",
   "name": "python",
   "nbconvert_exporter": "python",
   "pygments_lexer": "ipython3",
   "version": "3.8.12"
  },
  "toc": {
   "base_numbering": 1,
   "nav_menu": {},
   "number_sections": false,
   "sideBar": true,
   "skip_h1_title": true,
   "title_cell": "Table of Contents",
   "title_sidebar": "Contents",
   "toc_cell": false,
   "toc_position": {},
   "toc_section_display": true,
   "toc_window_display": false
  }
 },
 "nbformat": 4,
 "nbformat_minor": 5
}
